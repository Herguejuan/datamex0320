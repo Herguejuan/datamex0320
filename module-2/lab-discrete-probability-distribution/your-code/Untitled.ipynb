{
 "cells": [
  {
   "cell_type": "code",
   "execution_count": null,
   "metadata": {},
   "outputs": [],
   "source": [
    "def par(x):\n",
    "    return X%2==0\n",
    "\n",
    "sample_space = [1,2,3,4,5,6]\n",
    "caras = len(sample_space)\n",
    "pares = len([e for e in sample_space if par(e)])\n",
    "pares_prob = pares / caras\n",
    "pares_prob+"
   ]
  },
  {
   "cell_type": "code",
   "execution_count": null,
   "metadata": {},
   "outputs": [],
   "source": []
  }
 ],
 "metadata": {
  "kernelspec": {
   "display_name": "Python 3",
   "language": "python",
   "name": "python3"
  },
  "language_info": {
   "codemirror_mode": {
    "name": "ipython",
    "version": 3
   },
   "file_extension": ".py",
   "mimetype": "text/x-python",
   "name": "python",
   "nbconvert_exporter": "python",
   "pygments_lexer": "ipython3",
   "version": "3.7.6"
  }
 },
 "nbformat": 4,
 "nbformat_minor": 4
}
