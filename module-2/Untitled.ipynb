{
 "cells": [
  {
   "cell_type": "code",
   "execution_count": 15,
   "metadata": {},
   "outputs": [
    {
     "data": {
      "text/plain": [
       "0.5"
      ]
     },
     "execution_count": 15,
     "metadata": {},
     "output_type": "execute_result"
    }
   ],
   "source": [
    "# probabilidades de un dado\n",
    "\n",
    "espacio_muestral = (1,2,3,4,5,6)\n",
    "\n",
    "caras = len(espacio_muestral)\n",
    "\n",
    "pares = (2,4,6)\n",
    "nones = (1,3,5)\n",
    "\n",
    "\n",
    "prob_pares = len(pares) / caras\n",
    "\n",
    "\n",
    "prob_pares"
   ]
  },
  {
   "cell_type": "code",
   "execution_count": 16,
   "metadata": {},
   "outputs": [],
   "source": [
    "def pares(x):\n",
    "    return x%2 == 0"
   ]
  },
  {
   "cell_type": "code",
   "execution_count": 17,
   "metadata": {},
   "outputs": [
    {
     "data": {
      "text/plain": [
       "0.5"
      ]
     },
     "execution_count": 17,
     "metadata": {},
     "output_type": "execute_result"
    }
   ],
   "source": [
    "espacio = [1,2,3,4,5,6]\n",
    "\n",
    "pares = len([e for e in espacio if pares(e)])\n",
    "caras = len(espacio)\n",
    "\n",
    "prob = pares / caras\n",
    "\n",
    "prob"
   ]
  },
  {
   "cell_type": "code",
   "execution_count": 19,
   "metadata": {},
   "outputs": [
    {
     "data": {
      "text/plain": [
       "0.5"
      ]
     },
     "execution_count": 19,
     "metadata": {},
     "output_type": "execute_result"
    }
   ],
   "source": [
    "def pares(x):\n",
    "    return x%2 == 0 \n",
    "\n",
    "espacio_muestral = [1,2,3,4,5,6]\n",
    "caras = len(espacio_muestral)\n",
    "pares = len([e for e in espacio_muestral if pares(e)])\n",
    "\n",
    "probabilidad = pares / caras\n",
    "probabilidad"
   ]
  },
  {
   "cell_type": "markdown",
   "metadata": {},
   "source": [
    "# distribuciones discretas"
   ]
  },
  {
   "cell_type": "code",
   "execution_count": 20,
   "metadata": {},
   "outputs": [],
   "source": [
    "from scipy.stats import binom"
   ]
  },
  {
   "cell_type": "code",
   "execution_count": 21,
   "metadata": {},
   "outputs": [],
   "source": [
    "import matplotlib.pyplot as plt"
   ]
  },
  {
   "cell_type": "code",
   "execution_count": 24,
   "metadata": {},
   "outputs": [
    {
     "data": {
      "text/plain": [
       "0.11718750000000014"
      ]
     },
     "execution_count": 24,
     "metadata": {},
     "output_type": "execute_result"
    }
   ],
   "source": [
    "# sintaxis binomial ( k, n, p )     k = numero de éxitos, n = espacio muestral,  p = probabilidad\n",
    "\n",
    "binom.pmf (3,10,0.5)"
   ]
  },
  {
   "cell_type": "code",
   "execution_count": 34,
   "metadata": {},
   "outputs": [
    {
     "name": "stdout",
     "output_type": "stream",
     "text": [
      "[9.5367431640625e-07, 1.907348632812499e-05, 0.00018119812011718734, 0.0010871887207031235, 0.004620552062988271, 0.014785766601562429, 0.03696441650390614, 0.07392883300781268, 0.12013435363769531, 0.16017913818359344, 0.17619705200195293, 0.16017913818359344, 0.12013435363769531, 0.07392883300781268, 0.03696441650390614, 0.014785766601562429, 0.004620552062988271, 0.0010871887207031235, 0.00018119812011718734, 1.907348632812499e-05, 9.5367431640625e-07]\n"
     ]
    },
    {
     "data": {
      "text/plain": [
       "0.9999999999999991"
      ]
     },
     "execution_count": 34,
     "metadata": {},
     "output_type": "execute_result"
    },
    {
     "data": {
      "image/png": "[encoded data removed]",
      "text/plain": [
       "<Figure size 432x288 with 1 Axes>"
      ]
     },
     "metadata": {
      "needs_background": "light"
     },
     "output_type": "display_data"
    }
   ],
   "source": [
    "x = [i for i in range(21)]\n",
    "y = [binom.pmf(x,20,0.5) for x in x]\n",
    "\n",
    "print(y)\n",
    "plt.plot(x,y);\n",
    "sum(y)"
   ]
  },
  {
   "cell_type": "code",
   "execution_count": 35,
   "metadata": {},
   "outputs": [
    {
     "name": "stdout",
     "output_type": "stream",
     "text": [
      "[9.5367431640625e-07, 2.0027160644531247e-05, 0.0002012252807617188, 0.0012884140014648435, 0.005908966064453124, 0.020694732666015625, 0.057659149169921854, 0.13158798217773435, 0.25172233581542974, 0.41190147399902316, 0.5880985260009768, 0.7482776641845703, 0.8684120178222656, 0.9423408508300781, 0.9793052673339844, 0.9940910339355469, 0.9987115859985352, 0.9997987747192383, 0.9999799728393555, 0.9999990463256836, 1.0]\n"
     ]
    },
    {
     "data": {
      "text/plain": [
       "11.0"
      ]
     },
     "execution_count": 35,
     "metadata": {},
     "output_type": "execute_result"
    },
    {
     "data": {
      "image/png": "[encoded data removed]",
      "text/plain": [
       "<Figure size 432x288 with 1 Axes>"
      ]
     },
     "metadata": {
      "needs_background": "light"
     },
     "output_type": "display_data"
    }
   ],
   "source": [
    "x = [i for i in range(21)]\n",
    "y = [binom.cdf(x,20,0.5) for x in x]\n",
    "\n",
    "print(y)\n",
    "plt.plot(x,y);\n",
    "sum(y)"
   ]
  },
  {
   "cell_type": "code",
   "execution_count": 44,
   "metadata": {},
   "outputs": [
    {
     "data": {
      "text/plain": [
       "0.5"
      ]
     },
     "execution_count": 44,
     "metadata": {},
     "output_type": "execute_result"
    }
   ],
   "source": [
    "## Probabilidad de que salga par en un dado\n",
    "## sabiendo que la probabilidad se mide de 0 a 1\n",
    "\n",
    "\n",
    "## realizandolo con función\n",
    "\n",
    "def pares(x):\n",
    "    return x%2 == 0\n",
    "\n",
    "espacio_muestral = [1,2,3,4,5,6]\n",
    "\n",
    "pares = len([x \n",
    "             for x in espacio_muestral if pares(x)])\n",
    "\n",
    "caras = len(espacio_muestral)\n",
    "\n",
    "prob_par = pares / caras\n",
    "prob_par"
   ]
  },
  {
   "cell_type": "code",
   "execution_count": null,
   "metadata": {},
   "outputs": [],
   "source": []
  }
 ],
 "metadata": {
  "kernelspec": {
   "display_name": "Python 3",
   "language": "python",
   "name": "python3"
  },
  "language_info": {
   "codemirror_mode": {
    "name": "ipython",
    "version": 3
   },
   "file_extension": ".py",
   "mimetype": "text/x-python",
   "name": "python",
   "nbconvert_exporter": "python",
   "pygments_lexer": "ipython3",
   "version": "3.7.6"
  }
 },
 "nbformat": 4,
 "nbformat_minor": 4
}
