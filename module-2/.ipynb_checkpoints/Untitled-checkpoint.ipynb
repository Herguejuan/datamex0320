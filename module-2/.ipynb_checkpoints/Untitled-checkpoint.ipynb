{
 "cells": [
  {
   "cell_type": "code",
   "execution_count": 15,
   "metadata": {},
   "outputs": [
    {
     "data": {
      "text/plain": [
       "0.5"
      ]
     },
     "execution_count": 15,
     "metadata": {},
     "output_type": "execute_result"
    }
   ],
   "source": [
    "# probabilidades de un dado\n",
    "\n",
    "espacio_muestral = (1,2,3,4,5,6)\n",
    "\n",
    "caras = len(espacio_muestral)\n",
    "\n",
    "pares = (2,4,6)\n",
    "nones = (1,3,5)\n",
    "\n",
    "\n",
    "prob_pares = len(pares) / caras\n",
    "\n",
    "\n",
    "prob_pares"
   ]
  },
  {
   "cell_type": "code",
   "execution_count": 16,
   "metadata": {},
   "outputs": [],
   "source": [
    "def pares(x):\n",
    "    return x%2 == 0"
   ]
  },
  {
   "cell_type": "code",
   "execution_count": 17,
   "metadata": {},
   "outputs": [
    {
     "data": {
      "text/plain": [
       "0.5"
      ]
     },
     "execution_count": 17,
     "metadata": {},
     "output_type": "execute_result"
    }
   ],
   "source": [
    "espacio = [1,2,3,4,5,6]\n",
    "\n",
    "pares = len([e for e in espacio if pares(e)])\n",
    "caras = len(espacio)\n",
    "\n",
    "prob = pares / caras\n",
    "\n",
    "prob"
   ]
  },
  {
   "cell_type": "code",
   "execution_count": 19,
   "metadata": {},
   "outputs": [
    {
     "data": {
      "text/plain": [
       "0.5"
      ]
     },
     "execution_count": 19,
     "metadata": {},
     "output_type": "execute_result"
    }
   ],
   "source": [
    "def pares(x):\n",
    "    return x%2 == 0 \n",
    "\n",
    "espacio_muestral = [1,2,3,4,5,6]\n",
    "caras = len(espacio_muestral)\n",
    "pares = len([e for e in espacio_muestral if pares(e)])\n",
    "\n",
    "probabilidad = pares / caras\n",
    "probabilidad"
   ]
  },
  {
   "cell_type": "code",
   "execution_count": null,
   "metadata": {},
   "outputs": [],
   "source": []
  }
 ],
 "metadata": {
  "kernelspec": {
   "display_name": "Python 3",
   "language": "python",
   "name": "python3"
  },
  "language_info": {
   "codemirror_mode": {
    "name": "ipython",
    "version": 3
   },
   "file_extension": ".py",
   "mimetype": "text/x-python",
   "name": "python",
   "nbconvert_exporter": "python",
   "pygments_lexer": "ipython3",
   "version": "3.7.6"
  }
 },
 "nbformat": 4,
 "nbformat_minor": 4
}
