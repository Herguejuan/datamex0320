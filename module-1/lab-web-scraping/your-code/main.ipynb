{
 "cells": [
  {
   "cell_type": "markdown",
   "metadata": {},
   "source": [
    "# Web Scraping Lab\n",
    "\n",
    "You will find in this notebook some scrapy exercises to practise your scraping skills.\n",
    "\n",
    "**Tips:**\n",
    "\n",
    "- Check the response status code for each request to ensure you have obtained the intended contennt.\n",
    "- Print the response text in each request to understand the kind of info you are getting and its format.\n",
    "- Check for patterns in the response text to extract the data/info requested in each question.\n",
    "- Visit each url and take a look at its source through Chrome DevTools. You'll need to identify the html tags, special class names etc. used for the html content you are expected to extract."
   ]
  },
  {
   "cell_type": "markdown",
   "metadata": {},
   "source": [
    "- [Requests library](http://docs.python-requests.org/en/master/#the-user-guide) documentation \n",
    "- [Beautiful Soup Doc](https://www.crummy.com/software/BeautifulSoup/bs4/doc/)\n",
    "- [Urllib](https://docs.python.org/3/library/urllib.html#module-urllib)\n",
    "- [re lib](https://docs.python.org/3/library/re.html)\n",
    "- [lxml lib](https://lxml.de/)\n",
    "- [Scrapy](https://scrapy.org/)\n",
    "- [List of HTTP status codes](https://en.wikipedia.org/wiki/List_of_HTTP_status_codes)\n",
    "- [HTML basics](http://www.simplehtmlguide.com/cheatsheet.php)\n",
    "- [CSS basics](https://www.cssbasics.com/#page_start)"
   ]
  },
  {
   "cell_type": "markdown",
   "metadata": {},
   "source": [
    "#### Below are the libraries and modules you may need. `requests`,  `BeautifulSoup` and `pandas` are imported for you. If you prefer to use additional libraries feel free to uncomment them."
   ]
  },
  {
   "cell_type": "code",
   "execution_count": 1,
   "metadata": {},
   "outputs": [],
   "source": [
    "import requests\n",
    "from bs4 import BeautifulSoup\n",
    "import pandas as pd\n",
    "# from pprint import pprint\n",
    "# from lxml import html\n",
    "# from lxml.html import fromstring\n",
    "# import urllib.request\n",
    "from urllib.request import urlopen\n",
    "# import random\n",
    "import re\n",
    "# import scrapy"
   ]
  },
  {
   "cell_type": "markdown",
   "metadata": {},
   "source": [
    "#### Download, parse (using BeautifulSoup), and print the content from the Trending Developers page from GitHub:"
   ]
  },
  {
   "cell_type": "code",
   "execution_count": 2,
   "metadata": {},
   "outputs": [],
   "source": [
    "# This is the url you will scrape in this exercise\n",
    "url = 'https://github.com/trending/developers'"
   ]
  },
  {
   "cell_type": "code",
   "execution_count": 4,
   "metadata": {},
   "outputs": [],
   "source": [
    "#your code\n",
    "github_html = requests.get(url).text\n",
    "soup = BeautifulSoup(github_html, 'html.parser')"
   ]
  },
  {
   "cell_type": "markdown",
   "metadata": {},
   "source": [
    "#### Display the names of the trending developers retrieved in the previous step.\n",
    "\n",
    "Your output should be a Python list of developer names. Each name should not contain any html tag.\n",
    "\n",
    "**Instructions:**\n",
    "\n",
    "1. Find out the html tag and class names used for the developer names. You can achieve this using Chrome DevTools.\n",
    "\n",
    "1. Use BeautifulSoup to extract all the html elements that contain the developer names.\n",
    "\n",
    "1. Use string manipulation techniques to replace whitespaces and linebreaks (i.e. `\\n`) in the *text* of each html element. Use a list to store the clean names.\n",
    "\n",
    "1. Print the list of names.\n",
    "\n",
    "Your output should look like below:\n",
    "\n",
    "```\n",
    "['trimstray (@trimstray)',\n",
    " 'joewalnes (JoeWalnes)',\n",
    " 'charlax (Charles-AxelDein)',\n",
    " 'ForrestKnight (ForrestKnight)',\n",
    " 'revery-ui (revery-ui)',\n",
    " 'alibaba (Alibaba)',\n",
    " 'Microsoft (Microsoft)',\n",
    " 'github (GitHub)',\n",
    " 'facebook (Facebook)',\n",
    " 'boazsegev (Bo)',\n",
    " 'google (Google)',\n",
    " 'cloudfetch',\n",
    " 'sindresorhus (SindreSorhus)',\n",
    " 'tensorflow',\n",
    " 'apache (TheApacheSoftwareFoundation)',\n",
    " 'DevonCrawford (DevonCrawford)',\n",
    " 'ARMmbed (ArmMbed)',\n",
    " 'vuejs (vuejs)',\n",
    " 'fastai (fast.ai)',\n",
    " 'QiShaoXuan (Qi)',\n",
    " 'joelparkerhenderson (JoelParkerHenderson)',\n",
    " 'torvalds (LinusTorvalds)',\n",
    " 'CyC2018',\n",
    " 'komeiji-satori (神楽坂覚々)',\n",
    " 'script-8']\n",
    " ```"
   ]
  },
  {
   "cell_type": "code",
   "execution_count": 8,
   "metadata": {},
   "outputs": [
    {
     "data": {
      "text/plain": [
       "['Trending',\n",
       " 'JeremyApthorp',\n",
       " 'jonesforth',\n",
       " 'JonahWilliams',\n",
       " 'json_widget',\n",
       " 'FelixAngelov',\n",
       " 'bloc',\n",
       " 'chencheng(云谦)',\n",
       " 'awesome-javascript',\n",
       " 'SebastiánRamírez',\n",
       " 'fastapi',\n",
       " 'MariuszNowak',\n",
       " 'memoizee',\n",
       " 'DawidUrbaniak',\n",
       " 'twitterClone',\n",
       " 'JeffreySu',\n",
       " 'WeiXinMPSDK',\n",
       " 'HugoBowne-Anderson',\n",
       " 'COVID-19-EDA-tutorial',\n",
       " 'FelipeFialho',\n",
       " 'frontend-challenges',\n",
       " 'YuriShkuro',\n",
       " 'opentracing-tutorial',\n",
       " 'R.I.Pienaar',\n",
       " 'free-for-dev',\n",
       " 'ZenoRocha',\n",
       " 'clipboard.js',\n",
       " 'MaximKulkin',\n",
       " 'esp-homekit-demo',\n",
       " 'RobertMosolgo',\n",
       " 'graphql-ruby',\n",
       " 'PierreKrieger',\n",
       " 'redshirt',\n",
       " 'Iman',\n",
       " 'laravel-widgetize',\n",
       " 'LuisAlvarezD.',\n",
       " 'next-with-apollo',\n",
       " 'MaticZavadlal',\n",
       " 'graphql-shield',\n",
       " 'MartenSeemann',\n",
       " 'quic-conn',\n",
       " 'DavidPeter',\n",
       " 'bat',\n",
       " 'JakeWharton',\n",
       " 'butterknife',\n",
       " 'JeffBezanson',\n",
       " 'femtolisp',\n",
       " 'JamesMunnelly',\n",
       " 'kube-plex',\n",
       " 'MatthewJohnson',\n",
       " 'pyhsmm']"
      ]
     },
     "execution_count": 8,
     "metadata": {},
     "output_type": "execute_result"
    }
   ],
   "source": [
    "#your code\n",
    "\n",
    "def elimina(t):\n",
    "    t = re.sub(' ','',t)\n",
    "    t = re.sub('\\n\\n',' ',t)\n",
    "    return t.strip()\n",
    "\n",
    "dev2 = [d.text for d in soup.find_all('h1')]\n",
    "dev2 = list(map(elimina,dev2))\n",
    "\n",
    "dev2"
   ]
  },
  {
   "cell_type": "markdown",
   "metadata": {},
   "source": [
    "#### Display the trending Python repositories in GitHub\n",
    "\n",
    "The steps to solve this problem is similar to the previous one except that you need to find out the repository names instead of developer names."
   ]
  },
  {
   "cell_type": "code",
   "execution_count": 9,
   "metadata": {},
   "outputs": [],
   "source": [
    "# This is the url you will scrape in this exercise\n",
    "url = 'https://github.com/trending/python?since=daily'"
   ]
  },
  {
   "cell_type": "code",
   "execution_count": 15,
   "metadata": {},
   "outputs": [
    {
     "data": {
      "text/plain": [
       "['Trending',\n",
       " 'rojter-tech - pluradl.py',\n",
       " 'caoscott - SReC',\n",
       " '0voice - interview_internal_reference',\n",
       " 'ageitgey - face_recognition',\n",
       " 'manchenkoff - skillbox-async-chat',\n",
       " 'XiaohangZhan - deocclusion',\n",
       " 'google-research - text-to-text-transfer-transformer',\n",
       " 'kon9chunkit - GitHub-Chinese-Top-Charts',\n",
       " 'tiangolo - fastapi',\n",
       " 'CorentinJ - Real-Time-Voice-Cloning',\n",
       " 'home-assistant - core',\n",
       " 'alex04072000 - ObstructionRemoval',\n",
       " 'pcomputo - Whole-Foods-Delivery-Slot',\n",
       " 'CharlesPikachu - Games',\n",
       " 'doccano - doccano',\n",
       " 'google - jax',\n",
       " 'hankcs - HanLP',\n",
       " 'Sentdex - pygta5',\n",
       " 'ray-project - ray',\n",
       " 'Yelp - elastalert',\n",
       " 'timgrossmann - InstaPy',\n",
       " 'huggingface - transformers',\n",
       " 'ikergarcia1996 - Self-Driving-Car-in-Video-Games',\n",
       " 'fizyr - keras-retinanet',\n",
       " 'apache - airflow']"
      ]
     },
     "execution_count": 15,
     "metadata": {},
     "output_type": "execute_result"
    }
   ],
   "source": [
    "#your code\n",
    "github_html_py = requests.get(url).text\n",
    "soup_py = BeautifulSoup(github_html_py, 'html.parser')\n",
    "\n",
    "def elimina_p(t):\n",
    "    t = re.sub(' ','',t)\n",
    "    t = re.sub('\\n','',t)\n",
    "    t = re.sub('/',' - ',t)\n",
    "    return t\n",
    "\n",
    "repository = [r.text for r in soup_py.find_all('h1')]\n",
    "repository = list(map(elimina_p, repository))\n",
    "repository"
   ]
  },
  {
   "cell_type": "markdown",
   "metadata": {},
   "source": [
    "#### Display all the image links from Walt Disney wikipedia page"
   ]
  },
  {
   "cell_type": "code",
   "execution_count": 16,
   "metadata": {},
   "outputs": [],
   "source": [
    "# This is the url you will scrape in this exercise\n",
    "url = 'https://en.wikipedia.org/wiki/Walt_Disney'"
   ]
  },
  {
   "cell_type": "code",
   "execution_count": 17,
   "metadata": {},
   "outputs": [
    {
     "data": {
      "text/plain": [
       "['upload.wikimedia.org/wikipedia/en/thumb/e/e7/Cscr-featured.svg/20px-Cscr-featured.svg.png',\n",
       " 'upload.wikimedia.org/wikipedia/en/thumb/1/1b/Semi-protection-shackle.svg/20px-Semi-protection-shackle.svg.png',\n",
       " 'upload.wikimedia.org/wikipedia/commons/thumb/d/df/Walt_Disney_1946.JPG/220px-Walt_Disney_1946.JPG',\n",
       " 'upload.wikimedia.org/wikipedia/commons/thumb/8/87/Walt_Disney_1942_signature.svg/150px-Walt_Disney_1942_signature.svg.png',\n",
       " 'upload.wikimedia.org/wikipedia/commons/thumb/c/c4/Walt_Disney_envelope_ca._1921.jpg/220px-Walt_Disney_envelope_ca._1921.jpg',\n",
       " 'upload.wikimedia.org/wikipedia/commons/thumb/4/4d/Newman_Laugh-O-Gram_%281921%29.webm/220px-seek%3D2-Newman_Laugh-O-Gram_%281921%29.webm.jpg',\n",
       " 'upload.wikimedia.org/wikipedia/commons/thumb/0/0d/Trolley_Troubles_poster.jpg/170px-Trolley_Troubles_poster.jpg',\n",
       " 'upload.wikimedia.org/wikipedia/commons/thumb/7/71/Walt_Disney_and_his_cartoon_creation_%22Mickey_Mouse%22_-_National_Board_of_Review_Magazine.jpg/170px-Walt_Disney_and_his_cartoon_creation_%22Mickey_Mouse%22_-_National_Board_of_Review_Magazine.jpg',\n",
       " 'upload.wikimedia.org/wikipedia/en/thumb/4/4e/Steamboat-willie.jpg/170px-Steamboat-willie.jpg',\n",
       " 'upload.wikimedia.org/wikipedia/commons/thumb/5/57/Walt_Disney_1935.jpg/170px-Walt_Disney_1935.jpg',\n",
       " 'upload.wikimedia.org/wikipedia/commons/thumb/c/cd/Walt_Disney_Snow_white_1937_trailer_screenshot_%2813%29.jpg/220px-Walt_Disney_Snow_white_1937_trailer_screenshot_%2813%29.jpg',\n",
       " 'upload.wikimedia.org/wikipedia/commons/thumb/1/15/Disney_drawing_goofy.jpg/170px-Disney_drawing_goofy.jpg',\n",
       " 'upload.wikimedia.org/wikipedia/commons/thumb/1/13/DisneySchiphol1951.jpg/220px-DisneySchiphol1951.jpg',\n",
       " 'upload.wikimedia.org/wikipedia/commons/thumb/8/8c/WaltDisneyplansDisneylandDec1954.jpg/220px-WaltDisneyplansDisneylandDec1954.jpg',\n",
       " 'upload.wikimedia.org/wikipedia/commons/thumb/f/ff/Walt_disney_portrait_right.jpg/170px-Walt_disney_portrait_right.jpg',\n",
       " 'upload.wikimedia.org/wikipedia/commons/thumb/1/1a/Walt_Disney_Grave.JPG/170px-Walt_Disney_Grave.JPG',\n",
       " 'upload.wikimedia.org/wikipedia/commons/thumb/2/2d/Roy_O._Disney_with_Company_at_Press_Conference.jpg/170px-Roy_O._Disney_with_Company_at_Press_Conference.jpg',\n",
       " 'upload.wikimedia.org/wikipedia/commons/thumb/a/a9/Disney_Display_Case.JPG/170px-Disney_Display_Case.JPG',\n",
       " 'upload.wikimedia.org/wikipedia/commons/thumb/6/6c/Disney1968.jpg/170px-Disney1968.jpg',\n",
       " 'upload.wikimedia.org/wikipedia/en/thumb/8/8a/OOjs_UI_icon_edit-ltr-progressive.svg/10px-OOjs_UI_icon_edit-ltr-progressive.svg.png',\n",
       " 'upload.wikimedia.org/wikipedia/commons/thumb/4/44/The_Walt_Disney_Company_Logo.svg/120px-The_Walt_Disney_Company_Logo.svg.png',\n",
       " 'upload.wikimedia.org/wikipedia/commons/thumb/d/da/Animation_disc.svg/30px-Animation_disc.svg.png',\n",
       " 'upload.wikimedia.org/wikipedia/en/thumb/6/69/P_vip.svg/29px-P_vip.svg.png',\n",
       " 'upload.wikimedia.org/wikipedia/commons/thumb/1/1a/Magic_Kingdom_castle.jpg/24px-Magic_Kingdom_castle.jpg',\n",
       " 'upload.wikimedia.org/wikipedia/en/thumb/e/e7/Video-x-generic.svg/30px-Video-x-generic.svg.png',\n",
       " 'upload.wikimedia.org/wikipedia/commons/thumb/a/a3/Flag_of_Los_Angeles_County%2C_California.svg/30px-Flag_of_Los_Angeles_County%2C_California.svg.png',\n",
       " 'upload.wikimedia.org/wikipedia/commons/thumb/8/8c/Blank_television_set.svg/30px-Blank_television_set.svg.png',\n",
       " 'upload.wikimedia.org/wikipedia/en/thumb/a/a4/Flag_of_the_United_States.svg/30px-Flag_of_the_United_States.svg.png',\n",
       " 'upload.wikimedia.org/wikipedia/en/thumb/4/4a/Commons-logo.svg/22px-Commons-logo.svg.png',\n",
       " 'upload.wikimedia.org/wikipedia/commons/thumb/f/fa/Wikiquote-logo.svg/25px-Wikiquote-logo.svg.png',\n",
       " 'upload.wikimedia.org/wikipedia/commons/thumb/f/ff/Wikidata-logo.svg/30px-Wikidata-logo.svg.png',\n",
       " 'upload.wikimedia.org/wikipedia/en/thumb/8/8a/OOjs_UI_icon_edit-ltr-progressive.svg/10px-OOjs_UI_icon_edit-ltr-progressive.svg.png',\n",
       " 'en.wikipedia.org/wiki/Special:CentralAutoLogin/start?type=1x1',\n",
       " '/static/images/wikimedia-button.png',\n",
       " '/static/images/poweredby_mediawiki_88x31.png']"
      ]
     },
     "execution_count": 17,
     "metadata": {},
     "output_type": "execute_result"
    }
   ],
   "source": [
    "#your code\n",
    "disney_html = requests.get(url).text\n",
    "soup_disney = BeautifulSoup(disney_html,'html.parser')\n",
    "\n",
    "enlaces_imagenes = soup_disney.find_all('img')\n",
    "imagenes_src = [img['src'].replace('//','') for img in soup_disney.find_all('img')]\n",
    "imagenes_src"
   ]
  },
  {
   "cell_type": "markdown",
   "metadata": {},
   "source": [
    "#### Retrieve an arbitary Wikipedia page of \"Python\" and create a list of links on that page"
   ]
  },
  {
   "cell_type": "code",
   "execution_count": 18,
   "metadata": {},
   "outputs": [],
   "source": [
    "# This is the url you will scrape in this exercise\n",
    "url ='https://en.wikipedia.org/wiki/Python' "
   ]
  },
  {
   "cell_type": "code",
   "execution_count": 20,
   "metadata": {},
   "outputs": [
    {
     "data": {
      "text/plain": [
       "[None,\n",
       " '#mw-head',\n",
       " '#p-search',\n",
       " 'https://en.wiktionary.org/wiki/Python',\n",
       " 'https://en.wiktionary.org/wiki/python',\n",
       " '#Snakes',\n",
       " '#Ancient_Greece',\n",
       " '#Media_and_entertainment',\n",
       " '#Computing',\n",
       " '#Engineering']"
      ]
     },
     "execution_count": 20,
     "metadata": {},
     "output_type": "execute_result"
    }
   ],
   "source": [
    "#your code\n",
    "python_html = requests.get(url).text\n",
    "soup_py = BeautifulSoup(python_html,'html.parser')\n",
    "\n",
    "links = [a.get('href') for a in soup_py.find_all('a')]\n",
    "links[:10]"
   ]
  },
  {
   "cell_type": "markdown",
   "metadata": {},
   "source": [
    "#### Number of Titles that have changed in the United States Code since its last release point "
   ]
  },
  {
   "cell_type": "code",
   "execution_count": 21,
   "metadata": {},
   "outputs": [],
   "source": [
    "# This is the url you will scrape in this exercise\n",
    "url = 'http://uscode.house.gov/download/download.shtml'"
   ]
  },
  {
   "cell_type": "code",
   "execution_count": 25,
   "metadata": {},
   "outputs": [
    {
     "data": {
      "text/plain": [
       "['Title 8 - Aliens and Nationality',\n",
       " 'Title 22 - Foreign Relations and Intercourse',\n",
       " 'Title 29 - Labor',\n",
       " 'Title 42 - The Public Health and Welfare']"
      ]
     },
     "execution_count": 25,
     "metadata": {},
     "output_type": "execute_result"
    }
   ],
   "source": [
    "#your code\n",
    "titulos_html = requests.get(url).text\n",
    "soup_titulos = BeautifulSoup(titulos_html,'html.parser')\n",
    "\n",
    "titulos = [t.text.strip().replace('\\n','') for t in soup_titulos.find_all('div', class_ = 'usctitlechanged')]\n",
    "\n",
    "titulos"
   ]
  },
  {
   "cell_type": "markdown",
   "metadata": {},
   "source": [
    "#### A Python list with the top ten FBI's Most Wanted names "
   ]
  },
  {
   "cell_type": "code",
   "execution_count": 26,
   "metadata": {},
   "outputs": [],
   "source": [
    "# This is the url you will scrape in this exercise\n",
    "url = 'https://www.fbi.gov/wanted/topten'"
   ]
  },
  {
   "cell_type": "code",
   "execution_count": 28,
   "metadata": {},
   "outputs": [
    {
     "data": {
      "text/plain": [
       "['YASER ABDEL SAID',\n",
       " 'ALEXIS FLORES',\n",
       " 'EUGENE PALMER',\n",
       " 'SANTIAGO VILLALBA MEDEROS',\n",
       " 'RAFAEL CARO-QUINTERO',\n",
       " 'ROBERT WILLIAM FISHER',\n",
       " 'BHADRESHKUMAR CHETANBHAI PATEL',\n",
       " 'ALEJANDRO ROSALES CASTILLO',\n",
       " 'ARNOLDO JIMENEZ',\n",
       " 'JASON DEREK BROWN']"
      ]
     },
     "execution_count": 28,
     "metadata": {},
     "output_type": "execute_result"
    }
   ],
   "source": [
    "#your code \n",
    "fbi_html = requests.get(url).text\n",
    "soup_fbi = BeautifulSoup (fbi_html,'html.parser')\n",
    "\n",
    "buscados = [f.text.strip().replace('\\n','') for f in soup_fbi.find_all('h3',class_='title')]\n",
    "buscados"
   ]
  },
  {
   "cell_type": "markdown",
   "metadata": {},
   "source": [
    "####  20 latest earthquakes info (date, time, latitude, longitude and region name) by the EMSC as a pandas dataframe"
   ]
  },
  {
   "cell_type": "code",
   "execution_count": 29,
   "metadata": {},
   "outputs": [],
   "source": [
    "# This is the url you will scrape in this exercise\n",
    "url = 'https://www.emsc-csem.org/Earthquake/'"
   ]
  },
  {
   "cell_type": "code",
   "execution_count": 60,
   "metadata": {},
   "outputs": [
    {
     "data": {
      "text/html": [
       "<div>\n",
       "<style scoped>\n",
       "    .dataframe tbody tr th:only-of-type {\n",
       "        vertical-align: middle;\n",
       "    }\n",
       "\n",
       "    .dataframe tbody tr th {\n",
       "        vertical-align: top;\n",
       "    }\n",
       "\n",
       "    .dataframe thead th {\n",
       "        text-align: right;\n",
       "    }\n",
       "</style>\n",
       "<table border=\"1\" class=\"dataframe\">\n",
       "  <thead>\n",
       "    <tr style=\"text-align: right;\">\n",
       "      <th></th>\n",
       "      <th>Fecha</th>\n",
       "      <th>Hora</th>\n",
       "      <th>Region</th>\n",
       "      <th>Latitud</th>\n",
       "      <th>Longitud</th>\n",
       "    </tr>\n",
       "  </thead>\n",
       "  <tbody>\n",
       "    <tr>\n",
       "      <th>0</th>\n",
       "      <td>2020-04-10</td>\n",
       "      <td>18:55:02.5</td>\n",
       "      <td>OKLAHOMA</td>\n",
       "      <td>36.37</td>\n",
       "      <td>98.15</td>\n",
       "    </tr>\n",
       "    <tr>\n",
       "      <th>1</th>\n",
       "      <td>2020-04-10</td>\n",
       "      <td>18:50:56.4</td>\n",
       "      <td>PUERTO RICO</td>\n",
       "      <td>18.01</td>\n",
       "      <td>66.85</td>\n",
       "    </tr>\n",
       "    <tr>\n",
       "      <th>2</th>\n",
       "      <td>2020-04-10</td>\n",
       "      <td>18:47:20.6</td>\n",
       "      <td>DODECANESE ISLANDS, GREECE</td>\n",
       "      <td>35.23</td>\n",
       "      <td>27.87</td>\n",
       "    </tr>\n",
       "    <tr>\n",
       "      <th>3</th>\n",
       "      <td>2020-04-10</td>\n",
       "      <td>18:45:50.5</td>\n",
       "      <td>MINDANAO, PHILIPPINES</td>\n",
       "      <td>5.66</td>\n",
       "      <td>126.48</td>\n",
       "    </tr>\n",
       "    <tr>\n",
       "      <th>4</th>\n",
       "      <td>2020-04-10</td>\n",
       "      <td>18:40:13.8</td>\n",
       "      <td>PUERTO RICO REGION</td>\n",
       "      <td>17.91</td>\n",
       "      <td>66.76</td>\n",
       "    </tr>\n",
       "    <tr>\n",
       "      <th>5</th>\n",
       "      <td>2020-04-10</td>\n",
       "      <td>18:22:02.0</td>\n",
       "      <td>DOMINICAN REPUBLIC</td>\n",
       "      <td>18.79</td>\n",
       "      <td>70.35</td>\n",
       "    </tr>\n",
       "    <tr>\n",
       "      <th>6</th>\n",
       "      <td>2020-04-10</td>\n",
       "      <td>18:03:12.2</td>\n",
       "      <td>TENNESSEE</td>\n",
       "      <td>36.25</td>\n",
       "      <td>89.40</td>\n",
       "    </tr>\n",
       "    <tr>\n",
       "      <th>7</th>\n",
       "      <td>2020-04-10</td>\n",
       "      <td>18:03:06.6</td>\n",
       "      <td>CRETE, GREECE</td>\n",
       "      <td>35.37</td>\n",
       "      <td>25.86</td>\n",
       "    </tr>\n",
       "    <tr>\n",
       "      <th>8</th>\n",
       "      <td>2020-04-10</td>\n",
       "      <td>17:54:22.2</td>\n",
       "      <td>PUERTO RICO REGION</td>\n",
       "      <td>17.95</td>\n",
       "      <td>66.69</td>\n",
       "    </tr>\n",
       "    <tr>\n",
       "      <th>9</th>\n",
       "      <td>2020-04-10</td>\n",
       "      <td>17:29:51.0</td>\n",
       "      <td>SICILY, ITALY</td>\n",
       "      <td>38.50</td>\n",
       "      <td>12.70</td>\n",
       "    </tr>\n",
       "    <tr>\n",
       "      <th>10</th>\n",
       "      <td>2020-04-10</td>\n",
       "      <td>17:23:33.9</td>\n",
       "      <td>SOUTHERN IDAHO</td>\n",
       "      <td>44.27</td>\n",
       "      <td>115.21</td>\n",
       "    </tr>\n",
       "    <tr>\n",
       "      <th>11</th>\n",
       "      <td>2020-04-10</td>\n",
       "      <td>17:08:34.2</td>\n",
       "      <td>PUERTO RICO REGION</td>\n",
       "      <td>17.92</td>\n",
       "      <td>66.83</td>\n",
       "    </tr>\n",
       "    <tr>\n",
       "      <th>12</th>\n",
       "      <td>2020-04-10</td>\n",
       "      <td>17:05:37.2</td>\n",
       "      <td>SOUTHERN IDAHO</td>\n",
       "      <td>44.26</td>\n",
       "      <td>115.14</td>\n",
       "    </tr>\n",
       "    <tr>\n",
       "      <th>13</th>\n",
       "      <td>2020-04-10</td>\n",
       "      <td>17:03:49.1</td>\n",
       "      <td>SOUTHERN ALASKA</td>\n",
       "      <td>61.66</td>\n",
       "      <td>149.82</td>\n",
       "    </tr>\n",
       "    <tr>\n",
       "      <th>14</th>\n",
       "      <td>2020-04-10</td>\n",
       "      <td>16:57:09.0</td>\n",
       "      <td>SLOVENIA</td>\n",
       "      <td>46.18</td>\n",
       "      <td>15.02</td>\n",
       "    </tr>\n",
       "    <tr>\n",
       "      <th>15</th>\n",
       "      <td>2020-04-10</td>\n",
       "      <td>16:54:39.9</td>\n",
       "      <td>PUERTO RICO REGION</td>\n",
       "      <td>17.95</td>\n",
       "      <td>66.71</td>\n",
       "    </tr>\n",
       "    <tr>\n",
       "      <th>16</th>\n",
       "      <td>2020-04-10</td>\n",
       "      <td>16:38:09.4</td>\n",
       "      <td>SOUTH SANDWICH ISLANDS REGION</td>\n",
       "      <td>58.29</td>\n",
       "      <td>25.67</td>\n",
       "    </tr>\n",
       "    <tr>\n",
       "      <th>17</th>\n",
       "      <td>2020-04-10</td>\n",
       "      <td>16:33:50.6</td>\n",
       "      <td>SOUTHERN IDAHO</td>\n",
       "      <td>44.54</td>\n",
       "      <td>115.24</td>\n",
       "    </tr>\n",
       "    <tr>\n",
       "      <th>18</th>\n",
       "      <td>2020-04-10</td>\n",
       "      <td>16:31:05.3</td>\n",
       "      <td>DEAD SEA REGION</td>\n",
       "      <td>30.73</td>\n",
       "      <td>35.29</td>\n",
       "    </tr>\n",
       "    <tr>\n",
       "      <th>19</th>\n",
       "      <td>2020-04-10</td>\n",
       "      <td>16:29:41.0</td>\n",
       "      <td>POLAND</td>\n",
       "      <td>51.42</td>\n",
       "      <td>16.05</td>\n",
       "    </tr>\n",
       "  </tbody>\n",
       "</table>\n",
       "</div>"
      ],
      "text/plain": [
       "         Fecha        Hora                          Region Latitud Longitud\n",
       "0   2020-04-10  18:55:02.5                        OKLAHOMA  36.37    98.15 \n",
       "1   2020-04-10  18:50:56.4                     PUERTO RICO  18.01    66.85 \n",
       "2   2020-04-10  18:47:20.6      DODECANESE ISLANDS, GREECE  35.23    27.87 \n",
       "3   2020-04-10  18:45:50.5           MINDANAO, PHILIPPINES   5.66   126.48 \n",
       "4   2020-04-10  18:40:13.8              PUERTO RICO REGION  17.91    66.76 \n",
       "5   2020-04-10  18:22:02.0              DOMINICAN REPUBLIC  18.79    70.35 \n",
       "6   2020-04-10  18:03:12.2                       TENNESSEE  36.25    89.40 \n",
       "7   2020-04-10  18:03:06.6                   CRETE, GREECE  35.37    25.86 \n",
       "8   2020-04-10  17:54:22.2              PUERTO RICO REGION  17.95    66.69 \n",
       "9   2020-04-10  17:29:51.0                   SICILY, ITALY  38.50    12.70 \n",
       "10  2020-04-10  17:23:33.9                  SOUTHERN IDAHO  44.27   115.21 \n",
       "11  2020-04-10  17:08:34.2              PUERTO RICO REGION  17.92    66.83 \n",
       "12  2020-04-10  17:05:37.2                  SOUTHERN IDAHO  44.26   115.14 \n",
       "13  2020-04-10  17:03:49.1                 SOUTHERN ALASKA  61.66   149.82 \n",
       "14  2020-04-10  16:57:09.0                        SLOVENIA  46.18    15.02 \n",
       "15  2020-04-10  16:54:39.9              PUERTO RICO REGION  17.95    66.71 \n",
       "16  2020-04-10  16:38:09.4   SOUTH SANDWICH ISLANDS REGION  58.29    25.67 \n",
       "17  2020-04-10  16:33:50.6                  SOUTHERN IDAHO  44.54   115.24 \n",
       "18  2020-04-10  16:31:05.3                 DEAD SEA REGION  30.73    35.29 \n",
       "19  2020-04-10  16:29:41.0                          POLAND  51.42    16.05 "
      ]
     },
     "execution_count": 60,
     "metadata": {},
     "output_type": "execute_result"
    }
   ],
   "source": [
    "#your code\n",
    "terremotos_html = requests.get(url).text\n",
    "soup_terremotos = BeautifulSoup(terremotos_html,'html.parser')\n",
    "\n",
    "\n",
    "\n",
    "data=[]\n",
    "table = soup_terremotos.find_all('tr',class_='normal')\n",
    "\n",
    "\n",
    "for td in table:\n",
    "\n",
    "    temp_fecha = td.contents[3].find('a').text\n",
    "    temp_fecha = temp_fecha.split()\n",
    "    fecha = temp_fecha[0]\n",
    "    hora = temp_fecha[1]\n",
    "    latitud = td.contents[4].text\n",
    "    longitud = td.contents[6].text\n",
    "    region = td.contents[11].text\n",
    "    \n",
    "    data.append([fecha, hora, region, latitud, longitud ])\n",
    "    \n",
    "terremotos = pd.DataFrame(data, columns=['Fecha','Hora','Region','Latitud','Longitud'])\n",
    "terremotos[:20]"
   ]
  },
  {
   "cell_type": "markdown",
   "metadata": {},
   "source": [
    "#### Display the date, days, title, city, country of next 25 hackathon events as a Pandas dataframe table"
   ]
  },
  {
   "cell_type": "code",
   "execution_count": null,
   "metadata": {},
   "outputs": [],
   "source": [
    "# This is the url you will scrape in this exercise\n",
    "url ='https://hackevents.co/hackathons'"
   ]
  },
  {
   "cell_type": "code",
   "execution_count": null,
   "metadata": {},
   "outputs": [],
   "source": [
    "#your code\n",
    "# Ya no existe la página"
   ]
  },
  {
   "cell_type": "markdown",
   "metadata": {},
   "source": [
    "#### Count number of tweets by a given Twitter account."
   ]
  },
  {
   "cell_type": "markdown",
   "metadata": {},
   "source": [
    "You will need to include a ***try/except block*** for account names not found. \n",
    "<br>***Hint:*** the program should count the number of tweets for any provided account"
   ]
  },
  {
   "cell_type": "code",
   "execution_count": null,
   "metadata": {},
   "outputs": [],
   "source": [
    "# This is the url you will scrape in this exercise \n",
    "# You will need to add the account credentials to this url\n",
    "url = 'https://twitter.com/europress'"
   ]
  },
  {
   "cell_type": "code",
   "execution_count": 66,
   "metadata": {},
   "outputs": [
    {
     "name": "stdout",
     "output_type": "stream",
     "text": [
      "[]\n"
     ]
    }
   ],
   "source": []
  },
  {
   "cell_type": "code",
   "execution_count": 67,
   "metadata": {},
   "outputs": [
    {
     "name": "stdout",
     "output_type": "stream",
     "text": [
      "Error: list index out of range\n"
     ]
    }
   ],
   "source": [
    "#your code\n",
    "try:\n",
    "    twitter_html = requests.get(url).text\n",
    "    soup_twitter = BeautifulSoup(twitter_html,'html.parser')\n",
    "    \n",
    "    tweets = [e.text.strip() for e in soup_twitter.find_all('span', class_ = 'ProfileNav-value')]\n",
    "    \n",
    "    print(tweets[1].replace('\\xa0',' '))\n",
    "    \n",
    "except Exception as e:\n",
    "    print('Error: ' + str(e))"
   ]
  },
  {
   "cell_type": "markdown",
   "metadata": {},
   "source": [
    "#### Number of followers of a given twitter account"
   ]
  },
  {
   "cell_type": "markdown",
   "metadata": {},
   "source": [
    "You will need to include a ***try/except block*** in case account/s name not found. \n",
    "<br>***Hint:*** the program should count the followers for any provided account"
   ]
  },
  {
   "cell_type": "code",
   "execution_count": 84,
   "metadata": {},
   "outputs": [],
   "source": [
    "# This is the url you will scrape in this exercise \n",
    "# You will need to add the account credentials to this url\n",
    "url = 'https://twitter.com/europapress/with_replies'"
   ]
  },
  {
   "cell_type": "code",
   "execution_count": 86,
   "metadata": {},
   "outputs": [
    {
     "name": "stdout",
     "output_type": "stream",
     "text": [
      "Error: list index out of range\n"
     ]
    }
   ],
   "source": [
    "#your code\n",
    "try:\n",
    "    twritter_html = requests.get(url).text\n",
    "    soup_twitter = BeautifulSoup(twitter_html,'html.parser')\n",
    "    tweets = [e.text.strip() for e in soup_twitter.find_all('span', class_ = 'ProfileNav-value')]\n",
    "    \n",
    "    print(tweets[1].replace('\\xa0', ' '))\n",
    "    \n",
    "except Exception as e:\n",
    "    print('Error: ' + str(e))\n",
    "    "
   ]
  },
  {
   "cell_type": "markdown",
   "metadata": {},
   "source": [
    "#### List all language names and number of related articles in the order they appear in wikipedia.org"
   ]
  },
  {
   "cell_type": "code",
   "execution_count": 87,
   "metadata": {},
   "outputs": [],
   "source": [
    "# This is the url you will scrape in this exercise\n",
    "url = 'https://www.wikipedia.org/'"
   ]
  },
  {
   "cell_type": "code",
   "execution_count": 93,
   "metadata": {},
   "outputs": [
    {
     "data": {
      "text/plain": [
       "[['English', '6050000'],\n",
       " ['EspaÃ±ol', '1588000'],\n",
       " ['æ\\x97¥æ\\x9c¬èª\\x9e', '1198000'],\n",
       " ['Deutsch', '2416000'],\n",
       " ['FranÃ§ais', '2197000'],\n",
       " ['Ð\\xa0Ñ\\x83Ñ\\x81Ñ\\x81ÐºÐ¸Ð¹', '1611000'],\n",
       " ['Italiano', '1595000'],\n",
       " ['ä¸\\xadæ\\x96\\x87', '1109000'],\n",
       " ['PortuguÃªs', '1027000'],\n",
       " ['Polski', '1399000']]"
      ]
     },
     "execution_count": 93,
     "metadata": {},
     "output_type": "execute_result"
    }
   ],
   "source": [
    "#your code\n",
    "wiki_html = requests.get(url).text\n",
    "soup_wiki = BeautifulSoup (wiki_html,'html.parser')\n",
    "\n",
    "contenido = soup_wiki.find_all('div', class_= 'central-featured')\n",
    "\n",
    "idioma = contenido[0].find_all('strong')\n",
    "articulos = contenido[0].find_all('bdi')\n",
    "\n",
    "idi_art = []\n",
    "\n",
    "for i in (range(len(idioma))):\n",
    "    idi = idioma[i].text\n",
    "    art = re.sub('\\xa0', '', articulos[i].text)\n",
    "    art = re.sub('[^0-9]+','',art)\n",
    "    idi_art.append([idi, art])\n",
    "    \n",
    "idi_art"
   ]
  },
  {
   "cell_type": "markdown",
   "metadata": {},
   "source": [
    "#### A list with the different kind of datasets available in data.gov.uk "
   ]
  },
  {
   "cell_type": "code",
   "execution_count": 94,
   "metadata": {},
   "outputs": [],
   "source": [
    "# This is the url you will scrape in this exercise\n",
    "url = 'https://data.gov.uk/'"
   ]
  },
  {
   "cell_type": "code",
   "execution_count": 95,
   "metadata": {},
   "outputs": [
    {
     "data": {
      "text/plain": [
       "['Business and economy',\n",
       " 'Crime and justice',\n",
       " 'Defence',\n",
       " 'Education',\n",
       " 'Environment',\n",
       " 'Government',\n",
       " 'Government spending',\n",
       " 'Health',\n",
       " 'Mapping',\n",
       " 'Society',\n",
       " 'Towns and cities',\n",
       " 'Transport']"
      ]
     },
     "execution_count": 95,
     "metadata": {},
     "output_type": "execute_result"
    }
   ],
   "source": [
    "#your code \n",
    "gov_html = requests.get(url).text\n",
    "soup_gov = BeautifulSoup (gov_html,'html.parser')\n",
    "\n",
    "datos_tipo = [tipo.text for tipo in soup_gov.find_all('h2')]\n",
    "datos_tipo"
   ]
  },
  {
   "cell_type": "markdown",
   "metadata": {},
   "source": [
    "#### Top 10 languages by number of native speakers stored in a Pandas Dataframe"
   ]
  },
  {
   "cell_type": "code",
   "execution_count": 96,
   "metadata": {},
   "outputs": [],
   "source": [
    "# This is the url you will scrape in this exercise\n",
    "url = 'https://en.wikipedia.org/wiki/List_of_languages_by_number_of_native_speakers'"
   ]
  },
  {
   "cell_type": "code",
   "execution_count": 103,
   "metadata": {},
   "outputs": [
    {
     "data": {
      "text/html": [
       "<div>\n",
       "<style scoped>\n",
       "    .dataframe tbody tr th:only-of-type {\n",
       "        vertical-align: middle;\n",
       "    }\n",
       "\n",
       "    .dataframe tbody tr th {\n",
       "        vertical-align: top;\n",
       "    }\n",
       "\n",
       "    .dataframe thead th {\n",
       "        text-align: right;\n",
       "    }\n",
       "</style>\n",
       "<table border=\"1\" class=\"dataframe\">\n",
       "  <thead>\n",
       "    <tr style=\"text-align: right;\">\n",
       "      <th></th>\n",
       "      <th>Idioma</th>\n",
       "    </tr>\n",
       "  </thead>\n",
       "  <tbody>\n",
       "    <tr>\n",
       "      <th>0</th>\n",
       "      <td>Mandarin</td>\n",
       "    </tr>\n",
       "    <tr>\n",
       "      <th>1</th>\n",
       "      <td>Spanish</td>\n",
       "    </tr>\n",
       "    <tr>\n",
       "      <th>2</th>\n",
       "      <td>English</td>\n",
       "    </tr>\n",
       "    <tr>\n",
       "      <th>3</th>\n",
       "      <td>Hindi</td>\n",
       "    </tr>\n",
       "    <tr>\n",
       "      <th>4</th>\n",
       "      <td>Arabic</td>\n",
       "    </tr>\n",
       "    <tr>\n",
       "      <th>5</th>\n",
       "      <td>Portuguese</td>\n",
       "    </tr>\n",
       "    <tr>\n",
       "      <th>6</th>\n",
       "      <td>Bengali</td>\n",
       "    </tr>\n",
       "    <tr>\n",
       "      <th>7</th>\n",
       "      <td>Russian</td>\n",
       "    </tr>\n",
       "    <tr>\n",
       "      <th>8</th>\n",
       "      <td>Japanese</td>\n",
       "    </tr>\n",
       "    <tr>\n",
       "      <th>9</th>\n",
       "      <td>Punjabi</td>\n",
       "    </tr>\n",
       "  </tbody>\n",
       "</table>\n",
       "</div>"
      ],
      "text/plain": [
       "       Idioma\n",
       "0    Mandarin\n",
       "1     Spanish\n",
       "2     English\n",
       "3       Hindi\n",
       "4      Arabic\n",
       "5  Portuguese\n",
       "6     Bengali\n",
       "7     Russian\n",
       "8    Japanese\n",
       "9     Punjabi"
      ]
     },
     "execution_count": 103,
     "metadata": {},
     "output_type": "execute_result"
    }
   ],
   "source": [
    "#your code\n",
    "languages_html = requests.get(url).text\n",
    "soup_languages = BeautifulSoup(languages_html,'html.parser')\n",
    "\n",
    "data = []\n",
    "table = soup_languages.find_all('table', class_='wikitable')\n",
    "\n",
    "table_idi = [idioma.text for idioma in table[1].find_all('a') if len(idioma.text) > 3\n",
    "        ]\n",
    "\n",
    "idiomas_num = pd.DataFrame(table_idi, columns = ['Idioma'])\n",
    "idiomas_num.head(10)"
   ]
  },
  {
   "cell_type": "markdown",
   "metadata": {},
   "source": [
    "### BONUS QUESTIONS"
   ]
  },
  {
   "cell_type": "markdown",
   "metadata": {},
   "source": [
    "#### Scrape a certain number of tweets of a given Twitter account."
   ]
  },
  {
   "cell_type": "code",
   "execution_count": 112,
   "metadata": {},
   "outputs": [],
   "source": [
    "# This is the url you will scrape in this exercise \n",
    "# You will need to add the account credentials to this url\n",
    "url = 'https://twitter.com/europapress'"
   ]
  },
  {
   "cell_type": "code",
   "execution_count": 113,
   "metadata": {},
   "outputs": [
    {
     "data": {
      "text/plain": [
       "['Taiwán anuncia que el uso de mascarillas en mercados y lugares turísticos será obligatorio para prevenir el contagio del coronavirushttp://ow.ly/6iYi50zb4QR\\xa0',\n",
       " '#LoMásVisto | La hija pequeña de un periodista se cuela por sorpresa en la rueda de prensa telemática de Arrimadas emocionada porque ya sabía hacer la letra eme: \"Había que celebrarlo\" http://bit.ly/3c5tKF6\\xa0pic.twitter.com/JNtRspC0mH',\n",
       " '#LoMásVisto | España recibe más de un millón de mascarillas para los trabajadores del transporte público ante el coronavirus http://bit.ly/2ViaI7R\\xa0pic.twitter.com/sXCRAcseDY',\n",
       " '#LoMásLeído | Sanidad recomienda desinfectar los objetos que se usen en la calle, como el móvil o las gafas, una vez que se llegue a casa para evitar contagiarse de coronavirushttp://ow.ly/fSEQ50zbn0r\\xa0',\n",
       " 'La ministra de Trabajo avanza en una reunión con los sindicatos en los mecanismos y medidas que se necesitarán en el proceso de recuperación de la crisis del coronavirushttp://ow.ly/yYNT50zaZCG\\xa0']"
      ]
     },
     "metadata": {},
     "output_type": "display_data"
    }
   ],
   "source": [
    "# your code\n",
    "try:\n",
    "  \n",
    "    twitter_html = requests.get(url).text\n",
    "    soup_twitter = BeautifulSoup(twitter_html,'html.parser')\n",
    "    tweets = soup_twitter.find_all('div', class_='content')\n",
    "   \n",
    "\n",
    "    tweets_list = []\n",
    "    for subt in tweets:\n",
    "        parrafo = subt.find_all('p')\n",
    "        for t in parrafo:\n",
    "            tweets_list.append(t.text)\n",
    "    display(tweets_list[:5])\n",
    "    \n",
    "except Exception as e:\n",
    "    print('Error: ' + str(e))"
   ]
  },
  {
   "cell_type": "markdown",
   "metadata": {},
   "source": [
    "#### IMDB's Top 250 data (movie name, Initial release, director name and stars) as a pandas dataframe"
   ]
  },
  {
   "cell_type": "code",
   "execution_count": 114,
   "metadata": {},
   "outputs": [],
   "source": [
    "# This is the url you will scrape in this exercise \n",
    "url = 'https://www.imdb.com/chart/top'"
   ]
  },
  {
   "cell_type": "code",
   "execution_count": 123,
   "metadata": {},
   "outputs": [
    {
     "data": {
      "text/html": [
       "<div>\n",
       "<style scoped>\n",
       "    .dataframe tbody tr th:only-of-type {\n",
       "        vertical-align: middle;\n",
       "    }\n",
       "\n",
       "    .dataframe tbody tr th {\n",
       "        vertical-align: top;\n",
       "    }\n",
       "\n",
       "    .dataframe thead th {\n",
       "        text-align: right;\n",
       "    }\n",
       "</style>\n",
       "<table border=\"1\" class=\"dataframe\">\n",
       "  <thead>\n",
       "    <tr style=\"text-align: right;\">\n",
       "      <th></th>\n",
       "      <th>Movie</th>\n",
       "      <th>Director</th>\n",
       "      <th>Initial Release</th>\n",
       "      <th>Starts</th>\n",
       "    </tr>\n",
       "  </thead>\n",
       "  <tbody>\n",
       "    <tr>\n",
       "      <th>0</th>\n",
       "      <td>Sueños de libertad</td>\n",
       "      <td>Frank Darabont</td>\n",
       "      <td>1994</td>\n",
       "      <td>9.2</td>\n",
       "    </tr>\n",
       "    <tr>\n",
       "      <th>1</th>\n",
       "      <td>El Padrino</td>\n",
       "      <td>Francis Ford Coppola</td>\n",
       "      <td>1972</td>\n",
       "      <td>9.1</td>\n",
       "    </tr>\n",
       "    <tr>\n",
       "      <th>2</th>\n",
       "      <td>El padrino 2a parte</td>\n",
       "      <td>Francis Ford Coppola</td>\n",
       "      <td>1974</td>\n",
       "      <td>9.0</td>\n",
       "    </tr>\n",
       "    <tr>\n",
       "      <th>3</th>\n",
       "      <td>Batman: El Caballero de la Noche</td>\n",
       "      <td>Christopher Nolan</td>\n",
       "      <td>2008</td>\n",
       "      <td>9.0</td>\n",
       "    </tr>\n",
       "    <tr>\n",
       "      <th>4</th>\n",
       "      <td>12 hombres en pugna</td>\n",
       "      <td>Sidney Lumet</td>\n",
       "      <td>1957</td>\n",
       "      <td>8.9</td>\n",
       "    </tr>\n",
       "    <tr>\n",
       "      <th>5</th>\n",
       "      <td>La lista de Schindler</td>\n",
       "      <td>Steven Spielberg</td>\n",
       "      <td>1993</td>\n",
       "      <td>8.9</td>\n",
       "    </tr>\n",
       "    <tr>\n",
       "      <th>6</th>\n",
       "      <td>El señor de los anillos: El retorno del rey</td>\n",
       "      <td>Peter Jackson</td>\n",
       "      <td>2003</td>\n",
       "      <td>8.9</td>\n",
       "    </tr>\n",
       "    <tr>\n",
       "      <th>7</th>\n",
       "      <td>Tiempos violentos</td>\n",
       "      <td>Quentin Tarantino</td>\n",
       "      <td>1994</td>\n",
       "      <td>8.8</td>\n",
       "    </tr>\n",
       "    <tr>\n",
       "      <th>8</th>\n",
       "      <td>El bueno, el malo y el feo</td>\n",
       "      <td>Sergio Leone</td>\n",
       "      <td>1966</td>\n",
       "      <td>8.8</td>\n",
       "    </tr>\n",
       "    <tr>\n",
       "      <th>9</th>\n",
       "      <td>El señor de los anillos: La comunidad del anillo</td>\n",
       "      <td>Peter Jackson</td>\n",
       "      <td>2001</td>\n",
       "      <td>8.8</td>\n",
       "    </tr>\n",
       "    <tr>\n",
       "      <th>10</th>\n",
       "      <td>El club de la pelea</td>\n",
       "      <td>David Fincher</td>\n",
       "      <td>1999</td>\n",
       "      <td>8.8</td>\n",
       "    </tr>\n",
       "    <tr>\n",
       "      <th>11</th>\n",
       "      <td>Forrest Gump</td>\n",
       "      <td>Robert Zemeckis</td>\n",
       "      <td>1994</td>\n",
       "      <td>8.8</td>\n",
       "    </tr>\n",
       "    <tr>\n",
       "      <th>12</th>\n",
       "      <td>El origen</td>\n",
       "      <td>Christopher Nolan</td>\n",
       "      <td>2010</td>\n",
       "      <td>8.7</td>\n",
       "    </tr>\n",
       "    <tr>\n",
       "      <th>13</th>\n",
       "      <td>El imperio contraataca</td>\n",
       "      <td>Irvin Kershner</td>\n",
       "      <td>1980</td>\n",
       "      <td>8.7</td>\n",
       "    </tr>\n",
       "    <tr>\n",
       "      <th>14</th>\n",
       "      <td>El señor de los anillos: Las dos torres</td>\n",
       "      <td>Peter Jackson</td>\n",
       "      <td>2002</td>\n",
       "      <td>8.7</td>\n",
       "    </tr>\n",
       "    <tr>\n",
       "      <th>15</th>\n",
       "      <td>Matrix</td>\n",
       "      <td>Lana Wachowski</td>\n",
       "      <td>1999</td>\n",
       "      <td>8.6</td>\n",
       "    </tr>\n",
       "    <tr>\n",
       "      <th>16</th>\n",
       "      <td>Buenos muchachos</td>\n",
       "      <td>Martin Scorsese</td>\n",
       "      <td>1990</td>\n",
       "      <td>8.6</td>\n",
       "    </tr>\n",
       "    <tr>\n",
       "      <th>17</th>\n",
       "      <td>Atrapado sin salida</td>\n",
       "      <td>Milos Forman</td>\n",
       "      <td>1975</td>\n",
       "      <td>8.6</td>\n",
       "    </tr>\n",
       "    <tr>\n",
       "      <th>18</th>\n",
       "      <td>Los siete samurais</td>\n",
       "      <td>Akira Kurosawa</td>\n",
       "      <td>1954</td>\n",
       "      <td>8.6</td>\n",
       "    </tr>\n",
       "    <tr>\n",
       "      <th>19</th>\n",
       "      <td>Seven, los siete pecados capitales</td>\n",
       "      <td>David Fincher</td>\n",
       "      <td>1995</td>\n",
       "      <td>8.6</td>\n",
       "    </tr>\n",
       "  </tbody>\n",
       "</table>\n",
       "</div>"
      ],
      "text/plain": [
       "                                               Movie               Director  \\\n",
       "0                                 Sueños de libertad        Frank Darabont    \n",
       "1                                         El Padrino  Francis Ford Coppola    \n",
       "2                                El padrino 2a parte  Francis Ford Coppola    \n",
       "3                   Batman: El Caballero de la Noche     Christopher Nolan    \n",
       "4                                12 hombres en pugna          Sidney Lumet    \n",
       "5                              La lista de Schindler      Steven Spielberg    \n",
       "6        El señor de los anillos: El retorno del rey         Peter Jackson    \n",
       "7                                  Tiempos violentos     Quentin Tarantino    \n",
       "8                         El bueno, el malo y el feo          Sergio Leone    \n",
       "9   El señor de los anillos: La comunidad del anillo         Peter Jackson    \n",
       "10                               El club de la pelea         David Fincher    \n",
       "11                                      Forrest Gump       Robert Zemeckis    \n",
       "12                                         El origen     Christopher Nolan    \n",
       "13                            El imperio contraataca        Irvin Kershner    \n",
       "14           El señor de los anillos: Las dos torres         Peter Jackson    \n",
       "15                                            Matrix        Lana Wachowski    \n",
       "16                                  Buenos muchachos       Martin Scorsese    \n",
       "17                               Atrapado sin salida          Milos Forman    \n",
       "18                                Los siete samurais        Akira Kurosawa    \n",
       "19                Seven, los siete pecados capitales         David Fincher    \n",
       "\n",
       "   Initial Release Starts  \n",
       "0             1994    9.2  \n",
       "1             1972    9.1  \n",
       "2             1974    9.0  \n",
       "3             2008    9.0  \n",
       "4             1957    8.9  \n",
       "5             1993    8.9  \n",
       "6             2003    8.9  \n",
       "7             1994    8.8  \n",
       "8             1966    8.8  \n",
       "9             2001    8.8  \n",
       "10            1999    8.8  \n",
       "11            1994    8.8  \n",
       "12            2010    8.7  \n",
       "13            1980    8.7  \n",
       "14            2002    8.7  \n",
       "15            1999    8.6  \n",
       "16            1990    8.6  \n",
       "17            1975    8.6  \n",
       "18            1954    8.6  \n",
       "19            1995    8.6  "
      ]
     },
     "execution_count": 123,
     "metadata": {},
     "output_type": "execute_result"
    }
   ],
   "source": [
    "# your code\n",
    "\n",
    "import pandas as pd\n",
    "\n",
    "imdb_html = requests.get(url).text\n",
    "soup_imdb = BeautifulSoup(imdb_html,'html.parser')\n",
    "\n",
    "peliculas = soup_imdb.find_all('td', class_ = 'titleColumn')\n",
    "peliculas1 = soup_imdb.find_all('tr')\n",
    "\n",
    "\n",
    "lista_peliculas_1 = []\n",
    "lista_peliculas_2 = []\n",
    "\n",
    "\n",
    "def limpia_text(t):\n",
    "    t = re.sub('[^0-9]+','',t)\n",
    "    return t\n",
    "def limpia_ratio(t):\n",
    "    t = re.sub('[^0-9]+','',t)\n",
    "    return t[:1]+'.'+t[1:2]\n",
    "\n",
    "res= []\n",
    "res_rate = []\n",
    "\n",
    "for td in peliculas1:\n",
    "    anyo = td.find('span', class_= 'secondaryInfo')\n",
    "    res.append(str(anyo))\n",
    "    rate = td.find('strong')\n",
    "    res_rate.append(str(rate))\n",
    "    \n",
    "fechas = list(map(limpia_text,res))\n",
    "ratios = list(map(limpia_ratio, res_rate))\n",
    "df_fechas = pd.DataFrame(fechas[1:],columns = ['Initial release'])\n",
    "df_ratio = pd.DataFrame(ratios[1:],columns = ['Starts'])\n",
    "\n",
    "for p in peliculas:\n",
    "    anyo = p.find('secondaryInfo')\n",
    "    temp_tit = p.find('a')\n",
    "    titulo = temp_tit.text\n",
    "    \n",
    "    if 'title' in temp_tit.attrs:\n",
    "        director = temp_tit['title'].split('(')[0]\n",
    "\n",
    "\n",
    "    lista_peliculas_1.append([titulo,director])\n",
    "\n",
    "\n",
    "peliculasDF = pd.DataFrame(lista_peliculas_1, columns=['Movie','Director'])\n",
    "peliculasDF['Initial Release'] = df_fechas\n",
    "peliculasDF['Starts'] = df_ratio\n",
    "peliculasDF.head(20)\n",
    "    "
   ]
  },
  {
   "cell_type": "markdown",
   "metadata": {},
   "source": [
    "#### Movie name, year and a brief summary of the top 10 random movies (IMDB) as a pandas dataframe."
   ]
  },
  {
   "cell_type": "code",
   "execution_count": null,
   "metadata": {},
   "outputs": [],
   "source": [
    "#This is the url you will scrape in this exercise\n",
    "url = 'http://www.imdb.com/chart/top'"
   ]
  },
  {
   "cell_type": "code",
   "execution_count": null,
   "metadata": {},
   "outputs": [],
   "source": [
    "#your code"
   ]
  },
  {
   "cell_type": "markdown",
   "metadata": {},
   "source": [
    "#### Find the live weather report (temperature, wind speed, description and weather) of a given city."
   ]
  },
  {
   "cell_type": "code",
   "execution_count": null,
   "metadata": {},
   "outputs": [],
   "source": [
    "#https://openweathermap.org/current\n",
    "city = city=input('Enter the city:')\n",
    "url = 'http://api.openweathermap.org/data/2.5/weather?'+'q='+city+'&APPID=b35975e18dc93725acb092f7272cc6b8&units=metric'"
   ]
  },
  {
   "cell_type": "code",
   "execution_count": null,
   "metadata": {},
   "outputs": [],
   "source": [
    "# your code"
   ]
  },
  {
   "cell_type": "markdown",
   "metadata": {},
   "source": [
    "#### Book name,price and stock availability as a pandas dataframe."
   ]
  },
  {
   "cell_type": "code",
   "execution_count": null,
   "metadata": {},
   "outputs": [],
   "source": [
    "# This is the url you will scrape in this exercise. \n",
    "# It is a fictional bookstore created to be scraped. \n",
    "url = 'http://books.toscrape.com/'"
   ]
  },
  {
   "cell_type": "code",
   "execution_count": null,
   "metadata": {},
   "outputs": [],
   "source": [
    "#your code"
   ]
  }
 ],
 "metadata": {
  "kernelspec": {
   "display_name": "Python 3",
   "language": "python",
   "name": "python3"
  },
  "language_info": {
   "codemirror_mode": {
    "name": "ipython",
    "version": 3
   },
   "file_extension": ".py",
   "mimetype": "text/x-python",
   "name": "python",
   "nbconvert_exporter": "python",
   "pygments_lexer": "ipython3",
   "version": "3.7.6"
  }
 },
 "nbformat": 4,
 "nbformat_minor": 2
}
