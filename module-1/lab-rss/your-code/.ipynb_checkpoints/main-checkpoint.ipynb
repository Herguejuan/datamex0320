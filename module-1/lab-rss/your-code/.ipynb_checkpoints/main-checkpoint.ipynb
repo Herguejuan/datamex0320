{
 "cells": [
  {
   "cell_type": "markdown",
   "metadata": {},
   "source": [
    "# Working with RSS Feeds Lab\n",
    "\n",
    "Complete the following set of exercises to solidify your knowledge of parsing RSS feeds and extracting information from them."
   ]
  },
  {
   "cell_type": "code",
   "execution_count": 1,
   "metadata": {},
   "outputs": [],
   "source": [
    "import feedparser"
   ]
  },
  {
   "cell_type": "code",
   "execution_count": null,
   "metadata": {},
   "outputs": [],
   "source": [
    "!pip install feedparser"
   ]
  },
  {
   "cell_type": "markdown",
   "metadata": {},
   "source": [
    "### 1. Use feedparser to parse the following RSS feed URL."
   ]
  },
  {
   "cell_type": "code",
   "execution_count": 2,
   "metadata": {},
   "outputs": [],
   "source": [
    "url = 'http://feeds.feedburner.com/oreilly/radar/atom'"
   ]
  },
  {
   "cell_type": "code",
   "execution_count": 3,
   "metadata": {},
   "outputs": [
    {
     "name": "stdout",
     "output_type": "stream",
     "text": [
      "<class 'feedparser.FeedParserDict'>\n"
     ]
    }
   ],
   "source": [
    "res = feedparser.parse(url)\n",
    "print(type(res))"
   ]
  },
  {
   "cell_type": "markdown",
   "metadata": {},
   "source": [
    "### 2. Obtain a list of components (keys) that are available for this feed."
   ]
  },
  {
   "cell_type": "code",
   "execution_count": 4,
   "metadata": {},
   "outputs": [
    {
     "name": "stdout",
     "output_type": "stream",
     "text": [
      "['feed', 'entries', 'bozo', 'headers', 'etag', 'updated', 'updated_parsed', 'href', 'status', 'encoding', 'version', 'namespaces']\n"
     ]
    }
   ],
   "source": [
    "list_parse=list(res.keys())\n",
    "print (list_parse)"
   ]
  },
  {
   "cell_type": "markdown",
   "metadata": {},
   "source": [
    "### 3. Obtain a list of components (keys) that are available for the *feed* component of this RSS feed."
   ]
  },
  {
   "cell_type": "code",
   "execution_count": 5,
   "metadata": {},
   "outputs": [
    {
     "name": "stdout",
     "output_type": "stream",
     "text": [
      "[dict_keys(['title', 'title_detail', 'links', 'link', 'subtitle', 'subtitle_detail', 'updated', 'updated_parsed', 'language', 'sy_updateperiod', 'sy_updatefrequency', 'generator_detail', 'generator', 'feedburner_info', 'geo_lat', 'geo_long', 'feedburner_emailserviceid', 'feedburner_feedburnerhostname'])]\n"
     ]
    }
   ],
   "source": [
    "list_feed=[res['feed'].keys()]\n",
    "print (list_feed)"
   ]
  },
  {
   "cell_type": "markdown",
   "metadata": {},
   "source": [
    "### 4. Extract and print the feed title, subtitle, author, and link."
   ]
  },
  {
   "cell_type": "code",
   "execution_count": null,
   "metadata": {},
   "outputs": [],
   "source": [
    "print (res['feed']['title'])\n",
    "print (res['feed']['subtitle'])\n",
    "print (res['feed']['link'])"
   ]
  },
  {
   "cell_type": "markdown",
   "metadata": {},
   "source": [
    "### 5. Count the number of entries that are contained in this RSS feed."
   ]
  },
  {
   "cell_type": "code",
   "execution_count": 6,
   "metadata": {},
   "outputs": [
    {
     "name": "stdout",
     "output_type": "stream",
     "text": [
      "60\n"
     ]
    }
   ],
   "source": [
    "print (len(res['entries']))"
   ]
  },
  {
   "cell_type": "markdown",
   "metadata": {},
   "source": [
    "### 6. Obtain a list of components (keys) available for an entry.\n",
    "\n",
    "*Hint: Remember to index first before requesting the keys*"
   ]
  },
  {
   "cell_type": "code",
   "execution_count": 7,
   "metadata": {},
   "outputs": [
    {
     "name": "stdout",
     "output_type": "stream",
     "text": [
      "[dict_keys(['title', 'title_detail', 'links', 'link', 'comments', 'published', 'published_parsed', 'authors', 'author', 'author_detail', 'tags', 'id', 'guidislink', 'summary', 'summary_detail', 'content', 'wfw_commentrss', 'slash_comments', 'feedburner_origlink'])]\n"
     ]
    }
   ],
   "source": [
    "list_components=[res['entries'][0].keys()]\n",
    "print (list_components)"
   ]
  },
  {
   "cell_type": "markdown",
   "metadata": {},
   "source": [
    "### 7. Extract a list of entry titles."
   ]
  },
  {
   "cell_type": "code",
   "execution_count": 8,
   "metadata": {},
   "outputs": [
    {
     "name": "stdout",
     "output_type": "stream",
     "text": [
      "['Four short links: 14 April 2020', 'Radar trends to watch: April 2020', 'Four short links: 13 April 2020', 'Four short links: 10 April 2020', 'Four short links: 9 April 2020', 'Four short links: 8 April 2020', 'Four short links: 7 April 2020', 'Governance and Discovery', 'Four short links: 6 April 2020', 'Four short links: 3 April 2020', 'Four short links: 2 April 2020', 'Four short links: 1 April 2020', 'Four short links: 31 March 2020', 'What you need to know about product management for AI', 'The unreasonable importance of data preparation', 'Four short links: 24 March 2020', '3 ways to confront modern business challenges', 'An enterprise vision is your company’s North Star', 'Leaders need to mobilize change-ready workforces', 'Great leaders inspire innovation and creativity from within their workforces', 'Strong leaders forge an intersection of knowledge and experience', 'Four short links: 23 March 2020', 'Four short links: 20 March 2020', '6 trends framing the state of AI and ML', 'Four short links: 19 March 2020', 'It’s an unprecedented crisis: 8 things to do right now', 'AI adoption in the enterprise 2020', 'Four short links: 18 March 2020', 'Four short links: 17 March 2020', 'Four short links: 16 March 2020', 'Four short links: 13 March 2020', 'Four short links: 12 March 2020', 'Four short links: 11 March 2020', 'Four short links: 10 March 2020', 'Four short links: 9 March 2020', 'Four short links: 6 March 2020', 'Radar trends to watch: March 2020', 'Four short links: 5 March 2020', 'Remembering Freeman Dyson', 'Four short links: 4 March 2020', 'Four short links: 3 March 2020', 'The death of Agile?', 'Four short links: 2 March 2020', 'Four short links: 28 February 2020', 'Four short links: 27 February 2020', 'Architecture.Next: Invalidating old axioms', 'Where do great architectures come from?', 'Highlights from the O’Reilly Software Architecture Conference in New York 2020', 'Intellectual control', 'Four short links: 26 February 2020', 'From the trenches: Rachel Laycock', 'The elephant in the architecture', 'Sometimes I draw', 'Four short links: 25 February 2020', 'Four short links: 24 February 2020', 'Four short links: 22 February 2020', 'Four short links: 20 February 2020', '10 ways to get untapped talent in your organization to contribute', 'Four short links: 19 February 2020', '5 key areas for tech leaders to watch in 2020']\n"
     ]
    }
   ],
   "source": [
    "list_titles=[res['entries'][i]['title'] for i in range(len(res['entries']))]\n",
    "print (list_titles)"
   ]
  },
  {
   "cell_type": "markdown",
   "metadata": {},
   "source": [
    "### 8. Calculate the percentage of \"Four short links\" entry titles."
   ]
  },
  {
   "cell_type": "code",
   "execution_count": 9,
   "metadata": {},
   "outputs": [
    {
     "name": "stdout",
     "output_type": "stream",
     "text": [
      "60.0 %\n"
     ]
    }
   ],
   "source": [
    "count=len([i for i in range(len(list_titles)) if 'Four short links' in list_titles[i]])\n",
    "print (count*100/(len(res['entries'])), '%')\n"
   ]
  },
  {
   "cell_type": "markdown",
   "metadata": {},
   "source": [
    "### 9. Create a Pandas data frame from the feed's entries."
   ]
  },
  {
   "cell_type": "code",
   "execution_count": 10,
   "metadata": {},
   "outputs": [],
   "source": [
    "import pandas as pd"
   ]
  },
  {
   "cell_type": "code",
   "execution_count": 11,
   "metadata": {},
   "outputs": [
    {
     "data": {
      "text/html": [
       "<div>\n",
       "<style scoped>\n",
       "    .dataframe tbody tr th:only-of-type {\n",
       "        vertical-align: middle;\n",
       "    }\n",
       "\n",
       "    .dataframe tbody tr th {\n",
       "        vertical-align: top;\n",
       "    }\n",
       "\n",
       "    .dataframe thead th {\n",
       "        text-align: right;\n",
       "    }\n",
       "</style>\n",
       "<table border=\"1\" class=\"dataframe\">\n",
       "  <thead>\n",
       "    <tr style=\"text-align: right;\">\n",
       "      <th></th>\n",
       "      <th>title</th>\n",
       "      <th>title_detail</th>\n",
       "      <th>links</th>\n",
       "      <th>link</th>\n",
       "      <th>comments</th>\n",
       "      <th>published</th>\n",
       "      <th>published_parsed</th>\n",
       "      <th>authors</th>\n",
       "      <th>author</th>\n",
       "      <th>author_detail</th>\n",
       "      <th>tags</th>\n",
       "      <th>id</th>\n",
       "      <th>guidislink</th>\n",
       "      <th>summary</th>\n",
       "      <th>summary_detail</th>\n",
       "      <th>content</th>\n",
       "      <th>wfw_commentrss</th>\n",
       "      <th>slash_comments</th>\n",
       "      <th>feedburner_origlink</th>\n",
       "    </tr>\n",
       "  </thead>\n",
       "  <tbody>\n",
       "    <tr>\n",
       "      <th>0</th>\n",
       "      <td>Four short links: 14 April 2020</td>\n",
       "      <td>{'type': 'text/plain', 'language': None, 'base...</td>\n",
       "      <td>[{'rel': 'alternate', 'type': 'text/html', 'hr...</td>\n",
       "      <td>http://feedproxy.google.com/~r/oreilly/radar/a...</td>\n",
       "      <td>https://www.oreilly.com/radar/four-short-links...</td>\n",
       "      <td>Tue, 14 Apr 2020 11:55:12 +0000</td>\n",
       "      <td>(2020, 4, 14, 11, 55, 12, 1, 105, 0)</td>\n",
       "      <td>[{'name': 'Nat Torkington'}]</td>\n",
       "      <td>Nat Torkington</td>\n",
       "      <td>{'name': 'Nat Torkington'}</td>\n",
       "      <td>[{'term': 'Four Short Links', 'scheme': None, ...</td>\n",
       "      <td>https://www.oreilly.com/radar/?p=12633</td>\n",
       "      <td>False</td>\n",
       "      <td>The Science of Happiness &amp;#8212; free enrolmen...</td>\n",
       "      <td>{'type': 'text/html', 'language': None, 'base'...</td>\n",
       "      <td>[{'type': 'text/html', 'language': None, 'base...</td>\n",
       "      <td>https://www.oreilly.com/radar/four-short-links...</td>\n",
       "      <td>0</td>\n",
       "      <td>https://www.oreilly.com/radar/four-short-links...</td>\n",
       "    </tr>\n",
       "    <tr>\n",
       "      <th>1</th>\n",
       "      <td>Radar trends to watch: April 2020</td>\n",
       "      <td>{'type': 'text/plain', 'language': None, 'base...</td>\n",
       "      <td>[{'rel': 'alternate', 'type': 'text/html', 'hr...</td>\n",
       "      <td>http://feedproxy.google.com/~r/oreilly/radar/a...</td>\n",
       "      <td>https://www.oreilly.com/radar/radar-trends-to-...</td>\n",
       "      <td>Mon, 13 Apr 2020 19:39:00 +0000</td>\n",
       "      <td>(2020, 4, 13, 19, 39, 0, 0, 104, 0)</td>\n",
       "      <td>[{'name': 'Mike Loukides'}]</td>\n",
       "      <td>Mike Loukides</td>\n",
       "      <td>{'name': 'Mike Loukides'}</td>\n",
       "      <td>[{'term': 'Radar Trends', 'scheme': None, 'lab...</td>\n",
       "      <td>https://www.oreilly.com/radar/?p=12597</td>\n",
       "      <td>False</td>\n",
       "      <td>Since early in March, technology news has been...</td>\n",
       "      <td>{'type': 'text/html', 'language': None, 'base'...</td>\n",
       "      <td>[{'type': 'text/html', 'language': None, 'base...</td>\n",
       "      <td>https://www.oreilly.com/radar/radar-trends-to-...</td>\n",
       "      <td>0</td>\n",
       "      <td>https://www.oreilly.com/radar/radar-trends-to-...</td>\n",
       "    </tr>\n",
       "    <tr>\n",
       "      <th>2</th>\n",
       "      <td>Four short links: 13 April 2020</td>\n",
       "      <td>{'type': 'text/plain', 'language': None, 'base...</td>\n",
       "      <td>[{'rel': 'alternate', 'type': 'text/html', 'hr...</td>\n",
       "      <td>http://feedproxy.google.com/~r/oreilly/radar/a...</td>\n",
       "      <td>https://www.oreilly.com/radar/four-short-links...</td>\n",
       "      <td>Mon, 13 Apr 2020 11:53:38 +0000</td>\n",
       "      <td>(2020, 4, 13, 11, 53, 38, 0, 104, 0)</td>\n",
       "      <td>[{'name': 'Nat Torkington'}]</td>\n",
       "      <td>Nat Torkington</td>\n",
       "      <td>{'name': 'Nat Torkington'}</td>\n",
       "      <td>[{'term': 'Four Short Links', 'scheme': None, ...</td>\n",
       "      <td>https://www.oreilly.com/radar/?p=12625</td>\n",
       "      <td>False</td>\n",
       "      <td>Introduction to COBOL &amp;#8212; a 1999 web site ...</td>\n",
       "      <td>{'type': 'text/html', 'language': None, 'base'...</td>\n",
       "      <td>[{'type': 'text/html', 'language': None, 'base...</td>\n",
       "      <td>https://www.oreilly.com/radar/four-short-links...</td>\n",
       "      <td>0</td>\n",
       "      <td>https://www.oreilly.com/radar/four-short-links...</td>\n",
       "    </tr>\n",
       "    <tr>\n",
       "      <th>3</th>\n",
       "      <td>Four short links: 10 April 2020</td>\n",
       "      <td>{'type': 'text/plain', 'language': None, 'base...</td>\n",
       "      <td>[{'rel': 'alternate', 'type': 'text/html', 'hr...</td>\n",
       "      <td>http://feedproxy.google.com/~r/oreilly/radar/a...</td>\n",
       "      <td>https://www.oreilly.com/radar/four-short-links...</td>\n",
       "      <td>Fri, 10 Apr 2020 11:33:40 +0000</td>\n",
       "      <td>(2020, 4, 10, 11, 33, 40, 4, 101, 0)</td>\n",
       "      <td>[{'name': 'Nat Torkington'}]</td>\n",
       "      <td>Nat Torkington</td>\n",
       "      <td>{'name': 'Nat Torkington'}</td>\n",
       "      <td>[{'term': 'Four Short Links', 'scheme': None, ...</td>\n",
       "      <td>https://www.oreilly.com/radar/?p=12618</td>\n",
       "      <td>False</td>\n",
       "      <td>FairMOT &amp;#8212; one-shot multi-object tracking...</td>\n",
       "      <td>{'type': 'text/html', 'language': None, 'base'...</td>\n",
       "      <td>[{'type': 'text/html', 'language': None, 'base...</td>\n",
       "      <td>https://www.oreilly.com/radar/four-short-links...</td>\n",
       "      <td>0</td>\n",
       "      <td>https://www.oreilly.com/radar/four-short-links...</td>\n",
       "    </tr>\n",
       "    <tr>\n",
       "      <th>4</th>\n",
       "      <td>Four short links: 9 April 2020</td>\n",
       "      <td>{'type': 'text/plain', 'language': None, 'base...</td>\n",
       "      <td>[{'rel': 'alternate', 'type': 'text/html', 'hr...</td>\n",
       "      <td>http://feedproxy.google.com/~r/oreilly/radar/a...</td>\n",
       "      <td>https://www.oreilly.com/radar/four-short-links...</td>\n",
       "      <td>Thu, 09 Apr 2020 11:42:34 +0000</td>\n",
       "      <td>(2020, 4, 9, 11, 42, 34, 3, 100, 0)</td>\n",
       "      <td>[{'name': 'Nat Torkington'}]</td>\n",
       "      <td>Nat Torkington</td>\n",
       "      <td>{'name': 'Nat Torkington'}</td>\n",
       "      <td>[{'term': 'Four Short Links', 'scheme': None, ...</td>\n",
       "      <td>https://www.oreilly.com/radar/?p=12614</td>\n",
       "      <td>False</td>\n",
       "      <td>The Fuzzy Edges of Character Encoding &amp;#8212; ...</td>\n",
       "      <td>{'type': 'text/html', 'language': None, 'base'...</td>\n",
       "      <td>[{'type': 'text/html', 'language': None, 'base...</td>\n",
       "      <td>https://www.oreilly.com/radar/four-short-links...</td>\n",
       "      <td>0</td>\n",
       "      <td>https://www.oreilly.com/radar/four-short-links...</td>\n",
       "    </tr>\n",
       "  </tbody>\n",
       "</table>\n",
       "</div>"
      ],
      "text/plain": [
       "                               title  \\\n",
       "0    Four short links: 14 April 2020   \n",
       "1  Radar trends to watch: April 2020   \n",
       "2    Four short links: 13 April 2020   \n",
       "3    Four short links: 10 April 2020   \n",
       "4     Four short links: 9 April 2020   \n",
       "\n",
       "                                        title_detail  \\\n",
       "0  {'type': 'text/plain', 'language': None, 'base...   \n",
       "1  {'type': 'text/plain', 'language': None, 'base...   \n",
       "2  {'type': 'text/plain', 'language': None, 'base...   \n",
       "3  {'type': 'text/plain', 'language': None, 'base...   \n",
       "4  {'type': 'text/plain', 'language': None, 'base...   \n",
       "\n",
       "                                               links  \\\n",
       "0  [{'rel': 'alternate', 'type': 'text/html', 'hr...   \n",
       "1  [{'rel': 'alternate', 'type': 'text/html', 'hr...   \n",
       "2  [{'rel': 'alternate', 'type': 'text/html', 'hr...   \n",
       "3  [{'rel': 'alternate', 'type': 'text/html', 'hr...   \n",
       "4  [{'rel': 'alternate', 'type': 'text/html', 'hr...   \n",
       "\n",
       "                                                link  \\\n",
       "0  http://feedproxy.google.com/~r/oreilly/radar/a...   \n",
       "1  http://feedproxy.google.com/~r/oreilly/radar/a...   \n",
       "2  http://feedproxy.google.com/~r/oreilly/radar/a...   \n",
       "3  http://feedproxy.google.com/~r/oreilly/radar/a...   \n",
       "4  http://feedproxy.google.com/~r/oreilly/radar/a...   \n",
       "\n",
       "                                            comments  \\\n",
       "0  https://www.oreilly.com/radar/four-short-links...   \n",
       "1  https://www.oreilly.com/radar/radar-trends-to-...   \n",
       "2  https://www.oreilly.com/radar/four-short-links...   \n",
       "3  https://www.oreilly.com/radar/four-short-links...   \n",
       "4  https://www.oreilly.com/radar/four-short-links...   \n",
       "\n",
       "                         published                      published_parsed  \\\n",
       "0  Tue, 14 Apr 2020 11:55:12 +0000  (2020, 4, 14, 11, 55, 12, 1, 105, 0)   \n",
       "1  Mon, 13 Apr 2020 19:39:00 +0000   (2020, 4, 13, 19, 39, 0, 0, 104, 0)   \n",
       "2  Mon, 13 Apr 2020 11:53:38 +0000  (2020, 4, 13, 11, 53, 38, 0, 104, 0)   \n",
       "3  Fri, 10 Apr 2020 11:33:40 +0000  (2020, 4, 10, 11, 33, 40, 4, 101, 0)   \n",
       "4  Thu, 09 Apr 2020 11:42:34 +0000   (2020, 4, 9, 11, 42, 34, 3, 100, 0)   \n",
       "\n",
       "                        authors          author               author_detail  \\\n",
       "0  [{'name': 'Nat Torkington'}]  Nat Torkington  {'name': 'Nat Torkington'}   \n",
       "1   [{'name': 'Mike Loukides'}]   Mike Loukides   {'name': 'Mike Loukides'}   \n",
       "2  [{'name': 'Nat Torkington'}]  Nat Torkington  {'name': 'Nat Torkington'}   \n",
       "3  [{'name': 'Nat Torkington'}]  Nat Torkington  {'name': 'Nat Torkington'}   \n",
       "4  [{'name': 'Nat Torkington'}]  Nat Torkington  {'name': 'Nat Torkington'}   \n",
       "\n",
       "                                                tags  \\\n",
       "0  [{'term': 'Four Short Links', 'scheme': None, ...   \n",
       "1  [{'term': 'Radar Trends', 'scheme': None, 'lab...   \n",
       "2  [{'term': 'Four Short Links', 'scheme': None, ...   \n",
       "3  [{'term': 'Four Short Links', 'scheme': None, ...   \n",
       "4  [{'term': 'Four Short Links', 'scheme': None, ...   \n",
       "\n",
       "                                       id  guidislink  \\\n",
       "0  https://www.oreilly.com/radar/?p=12633       False   \n",
       "1  https://www.oreilly.com/radar/?p=12597       False   \n",
       "2  https://www.oreilly.com/radar/?p=12625       False   \n",
       "3  https://www.oreilly.com/radar/?p=12618       False   \n",
       "4  https://www.oreilly.com/radar/?p=12614       False   \n",
       "\n",
       "                                             summary  \\\n",
       "0  The Science of Happiness &#8212; free enrolmen...   \n",
       "1  Since early in March, technology news has been...   \n",
       "2  Introduction to COBOL &#8212; a 1999 web site ...   \n",
       "3  FairMOT &#8212; one-shot multi-object tracking...   \n",
       "4  The Fuzzy Edges of Character Encoding &#8212; ...   \n",
       "\n",
       "                                      summary_detail  \\\n",
       "0  {'type': 'text/html', 'language': None, 'base'...   \n",
       "1  {'type': 'text/html', 'language': None, 'base'...   \n",
       "2  {'type': 'text/html', 'language': None, 'base'...   \n",
       "3  {'type': 'text/html', 'language': None, 'base'...   \n",
       "4  {'type': 'text/html', 'language': None, 'base'...   \n",
       "\n",
       "                                             content  \\\n",
       "0  [{'type': 'text/html', 'language': None, 'base...   \n",
       "1  [{'type': 'text/html', 'language': None, 'base...   \n",
       "2  [{'type': 'text/html', 'language': None, 'base...   \n",
       "3  [{'type': 'text/html', 'language': None, 'base...   \n",
       "4  [{'type': 'text/html', 'language': None, 'base...   \n",
       "\n",
       "                                      wfw_commentrss slash_comments  \\\n",
       "0  https://www.oreilly.com/radar/four-short-links...              0   \n",
       "1  https://www.oreilly.com/radar/radar-trends-to-...              0   \n",
       "2  https://www.oreilly.com/radar/four-short-links...              0   \n",
       "3  https://www.oreilly.com/radar/four-short-links...              0   \n",
       "4  https://www.oreilly.com/radar/four-short-links...              0   \n",
       "\n",
       "                                 feedburner_origlink  \n",
       "0  https://www.oreilly.com/radar/four-short-links...  \n",
       "1  https://www.oreilly.com/radar/radar-trends-to-...  \n",
       "2  https://www.oreilly.com/radar/four-short-links...  \n",
       "3  https://www.oreilly.com/radar/four-short-links...  \n",
       "4  https://www.oreilly.com/radar/four-short-links...  "
      ]
     },
     "metadata": {},
     "output_type": "display_data"
    }
   ],
   "source": [
    "entry=pd.DataFrame.from_dict(res['entries'])\n",
    "display (entry.head())"
   ]
  },
  {
   "cell_type": "markdown",
   "metadata": {},
   "source": [
    "### 10. Count the number of entries per author and sort them in descending order."
   ]
  },
  {
   "cell_type": "code",
   "execution_count": 12,
   "metadata": {},
   "outputs": [
    {
     "data": {
      "text/plain": [
       "Nat Torkington                     36\n",
       "Jenn Webb                           4\n",
       "Mike Loukides                       4\n",
       "Roger Magoulas and Steve Swoyer     3\n",
       "Tim O’Reilly                        1\n",
       "Name: author, dtype: int64"
      ]
     },
     "metadata": {},
     "output_type": "display_data"
    }
   ],
   "source": [
    "\n",
    "author=entry['author'].value_counts()\n",
    "display (author.head())"
   ]
  },
  {
   "cell_type": "markdown",
   "metadata": {},
   "source": [
    "### 11. Add a new column to the data frame that contains the length (number of characters) of each entry title. Return a data frame that contains the title, author, and title length of each entry in descending order (longest title length at the top)."
   ]
  },
  {
   "cell_type": "code",
   "execution_count": 13,
   "metadata": {},
   "outputs": [
    {
     "data": {
      "text/html": [
       "<div>\n",
       "<style scoped>\n",
       "    .dataframe tbody tr th:only-of-type {\n",
       "        vertical-align: middle;\n",
       "    }\n",
       "\n",
       "    .dataframe tbody tr th {\n",
       "        vertical-align: top;\n",
       "    }\n",
       "\n",
       "    .dataframe thead th {\n",
       "        text-align: right;\n",
       "    }\n",
       "</style>\n",
       "<table border=\"1\" class=\"dataframe\">\n",
       "  <thead>\n",
       "    <tr style=\"text-align: right;\">\n",
       "      <th></th>\n",
       "      <th>title</th>\n",
       "      <th>title_detail</th>\n",
       "      <th>links</th>\n",
       "      <th>link</th>\n",
       "      <th>comments</th>\n",
       "      <th>published</th>\n",
       "      <th>published_parsed</th>\n",
       "      <th>authors</th>\n",
       "      <th>author</th>\n",
       "      <th>author_detail</th>\n",
       "      <th>tags</th>\n",
       "      <th>id</th>\n",
       "      <th>guidislink</th>\n",
       "      <th>summary</th>\n",
       "      <th>summary_detail</th>\n",
       "      <th>content</th>\n",
       "      <th>wfw_commentrss</th>\n",
       "      <th>slash_comments</th>\n",
       "      <th>feedburner_origlink</th>\n",
       "      <th>len_title</th>\n",
       "    </tr>\n",
       "  </thead>\n",
       "  <tbody>\n",
       "    <tr>\n",
       "      <th>0</th>\n",
       "      <td>Four short links: 14 April 2020</td>\n",
       "      <td>{'type': 'text/plain', 'language': None, 'base...</td>\n",
       "      <td>[{'rel': 'alternate', 'type': 'text/html', 'hr...</td>\n",
       "      <td>http://feedproxy.google.com/~r/oreilly/radar/a...</td>\n",
       "      <td>https://www.oreilly.com/radar/four-short-links...</td>\n",
       "      <td>Tue, 14 Apr 2020 11:55:12 +0000</td>\n",
       "      <td>(2020, 4, 14, 11, 55, 12, 1, 105, 0)</td>\n",
       "      <td>[{'name': 'Nat Torkington'}]</td>\n",
       "      <td>Nat Torkington</td>\n",
       "      <td>{'name': 'Nat Torkington'}</td>\n",
       "      <td>[{'term': 'Four Short Links', 'scheme': None, ...</td>\n",
       "      <td>https://www.oreilly.com/radar/?p=12633</td>\n",
       "      <td>False</td>\n",
       "      <td>The Science of Happiness &amp;#8212; free enrolmen...</td>\n",
       "      <td>{'type': 'text/html', 'language': None, 'base'...</td>\n",
       "      <td>[{'type': 'text/html', 'language': None, 'base...</td>\n",
       "      <td>https://www.oreilly.com/radar/four-short-links...</td>\n",
       "      <td>0</td>\n",
       "      <td>https://www.oreilly.com/radar/four-short-links...</td>\n",
       "      <td>31</td>\n",
       "    </tr>\n",
       "    <tr>\n",
       "      <th>1</th>\n",
       "      <td>Radar trends to watch: April 2020</td>\n",
       "      <td>{'type': 'text/plain', 'language': None, 'base...</td>\n",
       "      <td>[{'rel': 'alternate', 'type': 'text/html', 'hr...</td>\n",
       "      <td>http://feedproxy.google.com/~r/oreilly/radar/a...</td>\n",
       "      <td>https://www.oreilly.com/radar/radar-trends-to-...</td>\n",
       "      <td>Mon, 13 Apr 2020 19:39:00 +0000</td>\n",
       "      <td>(2020, 4, 13, 19, 39, 0, 0, 104, 0)</td>\n",
       "      <td>[{'name': 'Mike Loukides'}]</td>\n",
       "      <td>Mike Loukides</td>\n",
       "      <td>{'name': 'Mike Loukides'}</td>\n",
       "      <td>[{'term': 'Radar Trends', 'scheme': None, 'lab...</td>\n",
       "      <td>https://www.oreilly.com/radar/?p=12597</td>\n",
       "      <td>False</td>\n",
       "      <td>Since early in March, technology news has been...</td>\n",
       "      <td>{'type': 'text/html', 'language': None, 'base'...</td>\n",
       "      <td>[{'type': 'text/html', 'language': None, 'base...</td>\n",
       "      <td>https://www.oreilly.com/radar/radar-trends-to-...</td>\n",
       "      <td>0</td>\n",
       "      <td>https://www.oreilly.com/radar/radar-trends-to-...</td>\n",
       "      <td>33</td>\n",
       "    </tr>\n",
       "    <tr>\n",
       "      <th>2</th>\n",
       "      <td>Four short links: 13 April 2020</td>\n",
       "      <td>{'type': 'text/plain', 'language': None, 'base...</td>\n",
       "      <td>[{'rel': 'alternate', 'type': 'text/html', 'hr...</td>\n",
       "      <td>http://feedproxy.google.com/~r/oreilly/radar/a...</td>\n",
       "      <td>https://www.oreilly.com/radar/four-short-links...</td>\n",
       "      <td>Mon, 13 Apr 2020 11:53:38 +0000</td>\n",
       "      <td>(2020, 4, 13, 11, 53, 38, 0, 104, 0)</td>\n",
       "      <td>[{'name': 'Nat Torkington'}]</td>\n",
       "      <td>Nat Torkington</td>\n",
       "      <td>{'name': 'Nat Torkington'}</td>\n",
       "      <td>[{'term': 'Four Short Links', 'scheme': None, ...</td>\n",
       "      <td>https://www.oreilly.com/radar/?p=12625</td>\n",
       "      <td>False</td>\n",
       "      <td>Introduction to COBOL &amp;#8212; a 1999 web site ...</td>\n",
       "      <td>{'type': 'text/html', 'language': None, 'base'...</td>\n",
       "      <td>[{'type': 'text/html', 'language': None, 'base...</td>\n",
       "      <td>https://www.oreilly.com/radar/four-short-links...</td>\n",
       "      <td>0</td>\n",
       "      <td>https://www.oreilly.com/radar/four-short-links...</td>\n",
       "      <td>31</td>\n",
       "    </tr>\n",
       "    <tr>\n",
       "      <th>3</th>\n",
       "      <td>Four short links: 10 April 2020</td>\n",
       "      <td>{'type': 'text/plain', 'language': None, 'base...</td>\n",
       "      <td>[{'rel': 'alternate', 'type': 'text/html', 'hr...</td>\n",
       "      <td>http://feedproxy.google.com/~r/oreilly/radar/a...</td>\n",
       "      <td>https://www.oreilly.com/radar/four-short-links...</td>\n",
       "      <td>Fri, 10 Apr 2020 11:33:40 +0000</td>\n",
       "      <td>(2020, 4, 10, 11, 33, 40, 4, 101, 0)</td>\n",
       "      <td>[{'name': 'Nat Torkington'}]</td>\n",
       "      <td>Nat Torkington</td>\n",
       "      <td>{'name': 'Nat Torkington'}</td>\n",
       "      <td>[{'term': 'Four Short Links', 'scheme': None, ...</td>\n",
       "      <td>https://www.oreilly.com/radar/?p=12618</td>\n",
       "      <td>False</td>\n",
       "      <td>FairMOT &amp;#8212; one-shot multi-object tracking...</td>\n",
       "      <td>{'type': 'text/html', 'language': None, 'base'...</td>\n",
       "      <td>[{'type': 'text/html', 'language': None, 'base...</td>\n",
       "      <td>https://www.oreilly.com/radar/four-short-links...</td>\n",
       "      <td>0</td>\n",
       "      <td>https://www.oreilly.com/radar/four-short-links...</td>\n",
       "      <td>31</td>\n",
       "    </tr>\n",
       "    <tr>\n",
       "      <th>4</th>\n",
       "      <td>Four short links: 9 April 2020</td>\n",
       "      <td>{'type': 'text/plain', 'language': None, 'base...</td>\n",
       "      <td>[{'rel': 'alternate', 'type': 'text/html', 'hr...</td>\n",
       "      <td>http://feedproxy.google.com/~r/oreilly/radar/a...</td>\n",
       "      <td>https://www.oreilly.com/radar/four-short-links...</td>\n",
       "      <td>Thu, 09 Apr 2020 11:42:34 +0000</td>\n",
       "      <td>(2020, 4, 9, 11, 42, 34, 3, 100, 0)</td>\n",
       "      <td>[{'name': 'Nat Torkington'}]</td>\n",
       "      <td>Nat Torkington</td>\n",
       "      <td>{'name': 'Nat Torkington'}</td>\n",
       "      <td>[{'term': 'Four Short Links', 'scheme': None, ...</td>\n",
       "      <td>https://www.oreilly.com/radar/?p=12614</td>\n",
       "      <td>False</td>\n",
       "      <td>The Fuzzy Edges of Character Encoding &amp;#8212; ...</td>\n",
       "      <td>{'type': 'text/html', 'language': None, 'base'...</td>\n",
       "      <td>[{'type': 'text/html', 'language': None, 'base...</td>\n",
       "      <td>https://www.oreilly.com/radar/four-short-links...</td>\n",
       "      <td>0</td>\n",
       "      <td>https://www.oreilly.com/radar/four-short-links...</td>\n",
       "      <td>30</td>\n",
       "    </tr>\n",
       "  </tbody>\n",
       "</table>\n",
       "</div>"
      ],
      "text/plain": [
       "                               title  \\\n",
       "0    Four short links: 14 April 2020   \n",
       "1  Radar trends to watch: April 2020   \n",
       "2    Four short links: 13 April 2020   \n",
       "3    Four short links: 10 April 2020   \n",
       "4     Four short links: 9 April 2020   \n",
       "\n",
       "                                        title_detail  \\\n",
       "0  {'type': 'text/plain', 'language': None, 'base...   \n",
       "1  {'type': 'text/plain', 'language': None, 'base...   \n",
       "2  {'type': 'text/plain', 'language': None, 'base...   \n",
       "3  {'type': 'text/plain', 'language': None, 'base...   \n",
       "4  {'type': 'text/plain', 'language': None, 'base...   \n",
       "\n",
       "                                               links  \\\n",
       "0  [{'rel': 'alternate', 'type': 'text/html', 'hr...   \n",
       "1  [{'rel': 'alternate', 'type': 'text/html', 'hr...   \n",
       "2  [{'rel': 'alternate', 'type': 'text/html', 'hr...   \n",
       "3  [{'rel': 'alternate', 'type': 'text/html', 'hr...   \n",
       "4  [{'rel': 'alternate', 'type': 'text/html', 'hr...   \n",
       "\n",
       "                                                link  \\\n",
       "0  http://feedproxy.google.com/~r/oreilly/radar/a...   \n",
       "1  http://feedproxy.google.com/~r/oreilly/radar/a...   \n",
       "2  http://feedproxy.google.com/~r/oreilly/radar/a...   \n",
       "3  http://feedproxy.google.com/~r/oreilly/radar/a...   \n",
       "4  http://feedproxy.google.com/~r/oreilly/radar/a...   \n",
       "\n",
       "                                            comments  \\\n",
       "0  https://www.oreilly.com/radar/four-short-links...   \n",
       "1  https://www.oreilly.com/radar/radar-trends-to-...   \n",
       "2  https://www.oreilly.com/radar/four-short-links...   \n",
       "3  https://www.oreilly.com/radar/four-short-links...   \n",
       "4  https://www.oreilly.com/radar/four-short-links...   \n",
       "\n",
       "                         published                      published_parsed  \\\n",
       "0  Tue, 14 Apr 2020 11:55:12 +0000  (2020, 4, 14, 11, 55, 12, 1, 105, 0)   \n",
       "1  Mon, 13 Apr 2020 19:39:00 +0000   (2020, 4, 13, 19, 39, 0, 0, 104, 0)   \n",
       "2  Mon, 13 Apr 2020 11:53:38 +0000  (2020, 4, 13, 11, 53, 38, 0, 104, 0)   \n",
       "3  Fri, 10 Apr 2020 11:33:40 +0000  (2020, 4, 10, 11, 33, 40, 4, 101, 0)   \n",
       "4  Thu, 09 Apr 2020 11:42:34 +0000   (2020, 4, 9, 11, 42, 34, 3, 100, 0)   \n",
       "\n",
       "                        authors          author               author_detail  \\\n",
       "0  [{'name': 'Nat Torkington'}]  Nat Torkington  {'name': 'Nat Torkington'}   \n",
       "1   [{'name': 'Mike Loukides'}]   Mike Loukides   {'name': 'Mike Loukides'}   \n",
       "2  [{'name': 'Nat Torkington'}]  Nat Torkington  {'name': 'Nat Torkington'}   \n",
       "3  [{'name': 'Nat Torkington'}]  Nat Torkington  {'name': 'Nat Torkington'}   \n",
       "4  [{'name': 'Nat Torkington'}]  Nat Torkington  {'name': 'Nat Torkington'}   \n",
       "\n",
       "                                                tags  \\\n",
       "0  [{'term': 'Four Short Links', 'scheme': None, ...   \n",
       "1  [{'term': 'Radar Trends', 'scheme': None, 'lab...   \n",
       "2  [{'term': 'Four Short Links', 'scheme': None, ...   \n",
       "3  [{'term': 'Four Short Links', 'scheme': None, ...   \n",
       "4  [{'term': 'Four Short Links', 'scheme': None, ...   \n",
       "\n",
       "                                       id  guidislink  \\\n",
       "0  https://www.oreilly.com/radar/?p=12633       False   \n",
       "1  https://www.oreilly.com/radar/?p=12597       False   \n",
       "2  https://www.oreilly.com/radar/?p=12625       False   \n",
       "3  https://www.oreilly.com/radar/?p=12618       False   \n",
       "4  https://www.oreilly.com/radar/?p=12614       False   \n",
       "\n",
       "                                             summary  \\\n",
       "0  The Science of Happiness &#8212; free enrolmen...   \n",
       "1  Since early in March, technology news has been...   \n",
       "2  Introduction to COBOL &#8212; a 1999 web site ...   \n",
       "3  FairMOT &#8212; one-shot multi-object tracking...   \n",
       "4  The Fuzzy Edges of Character Encoding &#8212; ...   \n",
       "\n",
       "                                      summary_detail  \\\n",
       "0  {'type': 'text/html', 'language': None, 'base'...   \n",
       "1  {'type': 'text/html', 'language': None, 'base'...   \n",
       "2  {'type': 'text/html', 'language': None, 'base'...   \n",
       "3  {'type': 'text/html', 'language': None, 'base'...   \n",
       "4  {'type': 'text/html', 'language': None, 'base'...   \n",
       "\n",
       "                                             content  \\\n",
       "0  [{'type': 'text/html', 'language': None, 'base...   \n",
       "1  [{'type': 'text/html', 'language': None, 'base...   \n",
       "2  [{'type': 'text/html', 'language': None, 'base...   \n",
       "3  [{'type': 'text/html', 'language': None, 'base...   \n",
       "4  [{'type': 'text/html', 'language': None, 'base...   \n",
       "\n",
       "                                      wfw_commentrss slash_comments  \\\n",
       "0  https://www.oreilly.com/radar/four-short-links...              0   \n",
       "1  https://www.oreilly.com/radar/radar-trends-to-...              0   \n",
       "2  https://www.oreilly.com/radar/four-short-links...              0   \n",
       "3  https://www.oreilly.com/radar/four-short-links...              0   \n",
       "4  https://www.oreilly.com/radar/four-short-links...              0   \n",
       "\n",
       "                                 feedburner_origlink  len_title  \n",
       "0  https://www.oreilly.com/radar/four-short-links...         31  \n",
       "1  https://www.oreilly.com/radar/radar-trends-to-...         33  \n",
       "2  https://www.oreilly.com/radar/four-short-links...         31  \n",
       "3  https://www.oreilly.com/radar/four-short-links...         31  \n",
       "4  https://www.oreilly.com/radar/four-short-links...         30  "
      ]
     },
     "metadata": {},
     "output_type": "display_data"
    }
   ],
   "source": [
    "len_title=[len(entry['title'][i]) for i in range(len(entry))]\n",
    "entry['len_title']=len_title\n",
    "display (entry.head())"
   ]
  },
  {
   "cell_type": "markdown",
   "metadata": {},
   "source": [
    "### 12. Create a list of entry titles whose summary includes the phrase \"machine learning.\""
   ]
  },
  {
   "cell_type": "code",
   "execution_count": 14,
   "metadata": {},
   "outputs": [
    {
     "name": "stdout",
     "output_type": "stream",
     "text": [
      "['What you need to know about product management for AI']\n"
     ]
    }
   ],
   "source": [
    "\n",
    "ml=[entry['title'][i] for i in range(len(entry)) if 'machine learning' in entry['summary'][i]]\n",
    "print (ml)"
   ]
  },
  {
   "cell_type": "code",
   "execution_count": null,
   "metadata": {},
   "outputs": [],
   "source": []
  }
 ],
 "metadata": {
  "kernelspec": {
   "display_name": "Python 3",
   "language": "python",
   "name": "python3"
  },
  "language_info": {
   "codemirror_mode": {
    "name": "ipython",
    "version": 3
   },
   "file_extension": ".py",
   "mimetype": "text/x-python",
   "name": "python",
   "nbconvert_exporter": "python",
   "pygments_lexer": "ipython3",
   "version": "3.7.6"
  }
 },
 "nbformat": 4,
 "nbformat_minor": 2
}
